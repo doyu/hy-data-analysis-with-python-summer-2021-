{
  "cells": [
    {
      "cell_type": "markdown",
      "metadata": {
        "id": "1fhuR0NYjWUC"
      },
      "source": [
        "# Sequence Analysis with Python\n",
        "\n",
        "Contact: Veli Mäkinen veli.makinen@helsinki.fi"
      ]
    },
    {
      "cell_type": "markdown",
      "metadata": {
        "id": "DQCUy3sijWUH"
      },
      "source": [
        "The following assignments introduce applications of hashing with ```dict()``` primitive of Python. While doing so, a rudimentary introduction to biological sequences is given. \n",
        "This framework is then enhanced with probabilities, leading to routines to generate random sequences under some constraints, including a general concept of *Markov-chains*. All these components illustrate the usage of ```dict()```, but at the same time introduce some other computational routines to efficiently deal with probabilities.   \n",
        "The function ```collections.defaultdict``` can be useful.\n",
        "\n",
        "Below are some \"suggested\" imports. Feel free to use and modify these, or not. Generally it's good practice to keep most or all imports in one place. Typically very close to the start of notebooks."
      ]
    },
    {
      "cell_type": "code",
      "execution_count": 1,
      "metadata": {
        "ExecuteTime": {
          "end_time": "2019-07-08T22:04:22.831112Z",
          "start_time": "2019-07-08T22:04:22.688031Z"
        },
        "id": "YO5iBdc9jWUI"
      },
      "outputs": [],
      "source": [
        "from collections import defaultdict\n",
        "from itertools import product\n",
        "\n",
        "import numpy as np\n",
        "from numpy.random import choice"
      ]
    },
    {
      "cell_type": "markdown",
      "metadata": {
        "id": "yyvQe3vijWUJ"
      },
      "source": [
        "The automated TMC tests do not test cell outputs. These are intended to be evaluated in the peer reviews. So it is still be a good idea to make the outputs as clear and informative as possible.\n",
        "\n",
        "To keep TMC tests running as well as possible it is recommended to keep global variable assignments in the notebook to a minimum to avoid potential name clashes and confusion. Additionally you should keep all actual code exection in main guards to keep the test running smoothly. If you run [check_sequence.py](https://raw.githubusercontent.com/saskeli/data-analysis-with-python-summer-2019/master/check_outputs.py) in the `part07-e01_sequence_analysis` folder, the script should finish very quickly and optimally produce no output.\n",
        "\n",
        "If you download data from the internet during execution (codon usage table), the parts where downloading is done should not work if you decide to submit to the tmc server. Local tests should work fine."
      ]
    },
    {
      "cell_type": "markdown",
      "metadata": {
        "id": "3xR229bcjWUK"
      },
      "source": [
        "## DNA and RNA\n",
        "\n",
        "A DNA molecule consist, in principle, of a chain of smaller molecules. These smaller molecules have some common basic components (bases) that repeat. For our purposes it is sufficient to know that these bases are nucleotides adenine, cytosine, guanine, and thymine with abbreviations ```A```, ```C```, ```G```, and ```T```. Given a *DNA sequence* e.g. ```ACGATGAGGCTCAT```, one can reverse engineer (with negligible loss of information) the corresponding DNA molecule.\n",
        "\n",
        "Parts of a DNA molecule can *transcribe* into an RNA molecule. In this process, thymine gets replaced by uracil (```U```). \n",
        "\n",
        "\n",
        "1. Write a function ```dna_to_rna``` to convert a given DNA sequence $s$ into an RNA sequence. For the sake of exercise, use ```dict()``` to store the symbol to symbol encoding rules. Create a program to test your function."
      ]
    },
    {
      "cell_type": "code",
      "execution_count": 2,
      "metadata": {
        "ExecuteTime": {
          "end_time": "2019-07-08T22:04:22.841952Z",
          "start_time": "2019-07-08T22:04:22.834721Z"
        },
        "colab": {
          "base_uri": "https://localhost:8080/"
        },
        "id": "dFaEVsYVjWUL",
        "outputId": "1e690e16-e63b-4c52-d44c-04d0831151dd"
      },
      "outputs": [
        {
          "output_type": "stream",
          "name": "stdout",
          "text": [
            "AACGUGAUUUC\n"
          ]
        }
      ],
      "source": [
        "def dna_to_rna(s):\n",
        "    def f(x):\n",
        "        acgt = list(\"ACGT\")\n",
        "        acgu = list(\"ACGT\".replace('T', 'U'))\n",
        "        return dict(zip(acgt, acgu))[x]\n",
        "    return \"\".join(map(f, s))\n",
        "    \n",
        "if __name__ == '__main__':\n",
        "    s = \"AACGTGATTTC\"\n",
        "    assert dna_to_rna(s) == s.replace('T', 'U')\n",
        "    print(dna_to_rna(s))"
      ]
    },
    {
      "cell_type": "markdown",
      "metadata": {
        "id": "u85JH-QJjWUM"
      },
      "source": [
        "### Idea of solution\n",
        "\n",
        "fill in "
      ]
    },
    {
      "cell_type": "markdown",
      "metadata": {
        "id": "1PzmluuZjWUN"
      },
      "source": [
        "### Discussion\n",
        "\n",
        "fill in "
      ]
    },
    {
      "cell_type": "markdown",
      "metadata": {
        "id": "2MYHtNKCjWUO"
      },
      "source": [
        "## Proteins\n",
        "\n",
        "Like DNA and RNA, protein molecule can be interpreted as a chain of smaller molecules, where the bases are now amino acids. RNA molecule may *translate* into a protein molecule, but instead of base by base, three bases of RNA correspond to one base of protein. That is, RNA sequence is read triplet (called codon) at a time. \n",
        "\n",
        "2. Consider the codon to amino acid conversion table in http://htmlpreview.github.io/?https://github.com/csmastersUH/data_analysis_with_python_2020/blob/master/Codon%20usage%20table.html. Write a function ```get_dict``` to read the table into a ```dict()```, such that for each RNA sequence of length 3, say $\\texttt{AGU}$, the hash table stores the conversion rule to the corresponding amino acid. You may store the html page to your local src directory,\n",
        "and parse that file."
      ]
    },
    {
      "cell_type": "code",
      "execution_count": 3,
      "metadata": {
        "ExecuteTime": {
          "end_time": "2019-07-08T22:04:22.867855Z",
          "start_time": "2019-07-08T22:04:22.845885Z"
        },
        "colab": {
          "base_uri": "https://localhost:8080/"
        },
        "id": "MOOhfogAjWUO",
        "outputId": "e07ab003-8670-4216-e47a-5a8fd5b61248"
      },
      "outputs": [
        {
          "output_type": "stream",
          "name": "stdout",
          "text": [
            "      amino  fraction  freq  number\n",
            "codon                              \n",
            "UAA       *      0.30   1.0   40285\n",
            "UGA       *      0.47   1.6   63237\n",
            "UAG       *      0.24   0.8   32109\n",
            "{'UUU': 'F', 'UCU': 'S', 'UAU': 'Y', 'UGU': 'C', 'UUC': 'F', 'UCC': 'S', 'UAC': 'Y', 'UGC': 'C', 'UUA': 'L', 'UCA': 'S', 'UAA': '*', 'UGA': '*', 'UUG': 'L', 'UCG': 'S', 'UAG': '*', 'UGG': 'W', 'CUU': 'L', 'CCU': 'P', 'CAU': 'H', 'CGU': 'R', 'CUC': 'L', 'CCC': 'P', 'CAC': 'H', 'CGC': 'R', 'CUA': 'L', 'CCA': 'P', 'CAA': 'Q', 'CGA': 'R', 'CUG': 'L', 'CCG': 'P', 'CAG': 'Q', 'CGG': 'R', 'AUU': 'I', 'ACU': 'T', 'AAU': 'N', 'AGU': 'S', 'AUC': 'I', 'ACC': 'T', 'AAC': 'N', 'AGC': 'S', 'AUA': 'I', 'ACA': 'T', 'AAA': 'K', 'AGA': 'R', 'AUG': 'M', 'ACG': 'T', 'AAG': 'K', 'AGG': 'R', 'GUU': 'V', 'GCU': 'A', 'GAU': 'D', 'GGU': 'G', 'GUC': 'V', 'GCC': 'A', 'GAC': 'D', 'GGC': 'G', 'GUA': 'V', 'GCA': 'A', 'GAA': 'E', 'GGA': 'G', 'GUG': 'V', 'GCG': 'A', 'GAG': 'E', 'GGG': 'G'}\n"
          ]
        }
      ],
      "source": [
        "sssss = '''UUU F 0.46 17.6 (714298)  UCU S 0.19 15.2 (618711)  UAU Y 0.44 12.2 (495699)  UGU C 0.46 10.6 (430311)\n",
        "    UUC F 0.54 20.3 (824692)  UCC S 0.22 17.7 (718892)  UAC Y 0.56 15.3 (622407)  UGC C 0.54 12.6 (513028)\n",
        "    UUA L 0.08  7.7 (311881)  UCA S 0.15 12.2 (496448)  UAA * 0.30  1.0 ( 40285)  UGA * 0.47  1.6 ( 63237)\n",
        "    UUG L 0.13 12.9 (525688)  UCG S 0.05  4.4 (179419)  UAG * 0.24  0.8 ( 32109)  UGG W 1.00 13.2 (535595)\n",
        "\n",
        "    CUU L 0.13 13.2 (536515)  CCU P 0.29 17.5 (713233)  CAU H 0.42 10.9 (441711)  CGU R 0.08  4.5 (184609)\n",
        "    CUC L 0.20 19.6 (796638)  CCC P 0.32 19.8 (804620)  CAC H 0.58 15.1 (613713)  CGC R 0.18 10.4 (423516)\n",
        "    CUA L 0.07  7.2 (290751)  CCA P 0.28 16.9 (688038)  CAA Q 0.27 12.3 (501911)  CGA R 0.11  6.2 (250760)\n",
        "    CUG L 0.40 39.6 (1611801)  CCG P 0.11  6.9 (281570)  CAG Q 0.73 34.2 (1391973)  CGG R 0.20 11.4 (464485)\n",
        "\n",
        "    AUU I 0.36 16.0 (650473)  ACU T 0.25 13.1 (533609)  AAU N 0.47 17.0 (689701)  AGU S 0.15 12.1 (493429)\n",
        "    AUC I 0.47 20.8 (846466)  ACC T 0.36 18.9 (768147)  AAC N 0.53 19.1 (776603)  AGC S 0.24 19.5 (791383)\n",
        "    AUA I 0.17  7.5 (304565)  ACA T 0.28 15.1 (614523)  AAA K 0.43 24.4 (993621)  AGA R 0.21 12.2 (494682)\n",
        "    AUG M 1.00 22.0 (896005)  ACG T 0.11  6.1 (246105)  AAG K 0.57 31.9 (1295568)  AGG R 0.21 12.0 (486463)\n",
        "\n",
        "    GUU V 0.18 11.0 (448607)  GCU A 0.27 18.4 (750096)  GAU D 0.46 21.8 (885429)  GGU G 0.16 10.8 (437126)\n",
        "    GUC V 0.24 14.5 (588138)  GCC A 0.40 27.7 (1127679)  GAC D 0.54 25.1 (1020595)  GGC G 0.34 22.2 (903565)\n",
        "    GUA V 0.12  7.1 (287712)  GCA A 0.23 15.8 (643471)  GAA E 0.42 29.0 (1177632)  GGA G 0.25 16.5 (669873)\n",
        "    GUG V 0.46 28.1 (1143534)  GCG A 0.11  7.4 (299495)  GAG E 0.58 39.6 (1609975)  GGG G 0.25 16.5 (669768)'''\n",
        "\n",
        "import re\n",
        "import pandas as pd\n",
        "\n",
        "m = re.findall(r'[A-Z]{3} [A-Z*]{1} [\\d.]+ +[\\d.]+ +\\([ \\d]+\\)', sssss)\n",
        "#print(m)\n",
        "f = lambda x: x.replace('( ', '(').replace('(', '').replace(')', '')\n",
        "m = [f(x) for x in m]\n",
        "l = [list(map(lambda el: el.strip('()'), x.split())) for x in m]\n",
        "#print(l)\n",
        "#for x in l:\n",
        "#    print(len(x), x)\n",
        "df = pd.DataFrame(l, columns = ['codon', 'amino', 'fraction', 'freq', 'number'])\n",
        "df = df[['codon', 'amino', 'fraction', 'freq', 'number']]\n",
        "df.fraction = pd.to_numeric(df.fraction)\n",
        "df.freq = pd.to_numeric(df.freq)\n",
        "df.number = pd.to_numeric(df.number)\n",
        "df = df.set_index('codon')\n",
        "print(df[df.amino=='*'])\n",
        "#print(df.head())\n",
        "#print(df.dtypes)\n",
        "\n",
        "def get_dict():\n",
        "    return dict(zip(df.index, df.amino))\n",
        "    \n",
        "if __name__ == '__main__':\n",
        "    codon_to_aa = get_dict()\n",
        "    print(codon_to_aa)"
      ]
    },
    {
      "cell_type": "markdown",
      "metadata": {
        "id": "qPJ-vfKIjWUP"
      },
      "source": [
        "### Idea of solution\n",
        "\n",
        "fill in "
      ]
    },
    {
      "cell_type": "markdown",
      "metadata": {
        "id": "PPBj_uQ0jWUQ"
      },
      "source": [
        "### Discussion\n",
        "\n",
        "fill in "
      ]
    },
    {
      "cell_type": "markdown",
      "metadata": {
        "id": "not-cM0EjWUQ"
      },
      "source": [
        "#3. Use the same conversion table as above, but now write function `get_dict_list` to read the table into a `dict()`, such that for each amino acid the hash table stores the list of codons encoding it.    "
      ]
    },
    {
      "cell_type": "code",
      "execution_count": 4,
      "metadata": {
        "ExecuteTime": {
          "end_time": "2019-07-08T22:04:22.882386Z",
          "start_time": "2019-07-08T22:04:22.872449Z"
        },
        "colab": {
          "base_uri": "https://localhost:8080/"
        },
        "id": "Jji8ogyUjWUQ",
        "outputId": "22e0e583-1cf3-4b8a-e371-31fa6da26e0a"
      },
      "outputs": [
        {
          "output_type": "stream",
          "name": "stdout",
          "text": [
            "{'F': ['UUU', 'UUC'], 'S': ['UCU', 'UCC', 'UCA', 'UCG', 'AGU', 'AGC'], 'Y': ['UAU', 'UAC'], 'C': ['UGU', 'UGC'], 'L': ['UUA', 'UUG', 'CUU', 'CUC', 'CUA', 'CUG'], '*': ['UAA', 'UGA', 'UAG'], 'W': ['UGG'], 'P': ['CCU', 'CCC', 'CCA', 'CCG'], 'H': ['CAU', 'CAC'], 'R': ['CGU', 'CGC', 'CGA', 'CGG', 'AGA', 'AGG'], 'Q': ['CAA', 'CAG'], 'I': ['AUU', 'AUC', 'AUA'], 'T': ['ACU', 'ACC', 'ACA', 'ACG'], 'N': ['AAU', 'AAC'], 'K': ['AAA', 'AAG'], 'M': ['AUG'], 'V': ['GUU', 'GUC', 'GUA', 'GUG'], 'A': ['GCU', 'GCC', 'GCA', 'GCG'], 'D': ['GAU', 'GAC'], 'G': ['GGU', 'GGC', 'GGA', 'GGG'], 'E': ['GAA', 'GAG']}\n"
          ]
        },
        {
          "output_type": "execute_result",
          "data": {
            "text/plain": [
              "['UUU', 'UUC']"
            ]
          },
          "metadata": {},
          "execution_count": 4
        }
      ],
      "source": [
        "#print(df.head())\n",
        "#print(df.amino.unique(), len(df.amino.unique()))\n",
        "#print(df.triplet.unique(), len(df.triplet.unique()))\n",
        "\n",
        "def get_dict_list():\n",
        "    d = dict()\n",
        "    codon_to_aa = get_dict()\n",
        "    for x in df.amino.unique():\n",
        "        d[x] = []\n",
        "    for x in df.index.unique():\n",
        "        d[codon_to_aa[x]].append(x)\n",
        "    return d\n",
        "    \n",
        "if __name__ == '__main__':\n",
        "    aa_to_codons = get_dict_list()\n",
        "    print(aa_to_codons)\n",
        "\n",
        "get_dict_list()['F']    "
      ]
    },
    {
      "cell_type": "markdown",
      "metadata": {
        "id": "TnbQAi2EjWUR"
      },
      "source": [
        "### Idea of solution\n",
        "\n",
        "fill in "
      ]
    },
    {
      "cell_type": "markdown",
      "metadata": {
        "id": "aRarHnFHjWUR"
      },
      "source": [
        "### Discussion\n",
        "\n",
        "fill in "
      ]
    },
    {
      "cell_type": "markdown",
      "metadata": {
        "id": "TASZyL04jWUR"
      },
      "source": [
        "With the conversion tables at hand, the following should be trivial to solve.\n",
        "\n",
        "4. Fill in function ```rna_to_prot``` in the stub solution to convert a given DNA sequence $s$ into a protein sequence. \n",
        "You may use the dictionaries from exercises 2 and 3. You can test your program with `ATGATATCATCGACGATGTAG`."
      ]
    },
    {
      "cell_type": "code",
      "execution_count": 5,
      "metadata": {
        "ExecuteTime": {
          "end_time": "2019-07-08T22:04:22.913321Z",
          "start_time": "2019-07-08T22:04:22.906646Z"
        },
        "colab": {
          "base_uri": "https://localhost:8080/"
        },
        "id": "PUBlPxOhjWUR",
        "outputId": "3c8259f3-83d5-412c-c337-cacaac3a5170"
      },
      "outputs": [
        {
          "output_type": "stream",
          "name": "stdout",
          "text": [
            "MISSTM*\n"
          ]
        }
      ],
      "source": [
        "def rna_to_prot(s):\n",
        "    acc = []\n",
        "    l = list(s)\n",
        "    while len(l) >= 3:\n",
        "        acc.append(\"\".join(l[:3]))\n",
        "        l = l[3:]\n",
        "    #print(acc)\n",
        "    return \"\".join(list(map(lambda x: get_dict()[x], acc)))\n",
        "\n",
        "def dna_to_prot(s):\n",
        "    return rna_to_prot(dna_to_rna(s))\n",
        "\n",
        "if __name__ == '__main__':\n",
        "    print(dna_to_prot(\"ATGATATCATCGACGATGTAG\"))"
      ]
    },
    {
      "cell_type": "markdown",
      "metadata": {
        "id": "AJN5hy8IjWUS"
      },
      "source": [
        "### Idea of solution\n",
        "\n",
        "fill in "
      ]
    },
    {
      "cell_type": "markdown",
      "metadata": {
        "id": "dOv4yS3ZjWUS"
      },
      "source": [
        "### Discussion\n",
        "\n",
        "fill in "
      ]
    },
    {
      "cell_type": "markdown",
      "metadata": {
        "id": "QqvxVrWUjWUS"
      },
      "source": [
        "You may notice that there are $4^3=64$ different codons, but only 20 amino acids. That is, some triplets encode the same amino acid.  "
      ]
    },
    {
      "cell_type": "markdown",
      "metadata": {
        "id": "ia7go1wjjWUT"
      },
      "source": [
        "## Reverse translation\n",
        "\n",
        "It has been observed that among the codons coding the same amino acid, some are more **frequent** than others. These **frequencies** can be converted to **probabilities**. E.g. consider codons `AUU`, `AUC`, and `AUA` that code for amino acid isoleucine.\n",
        "If they are observed, say, 36, 47, 17 times, respectively, to code isoleucine in a dataset, the probability that a random such event is `AUU` $\\to$ isoleucine is 36/100.\n",
        "\n",
        "This phenomenon is called **codon adaptation**, and for our purposes it works as a good introduction to generation of random sequences under constraints.   \n",
        "\n",
        "5. Consider the codon adaptation **frequencies** in [**table**](http://htmlpreview.github.io/?https://github.com/csmastersUH/data_analysis_with_python_2020/blob/master/Codon%20usage%20table.html) and read them into a ```dict()```, such that for each RNA sequence of length 3, say `AGU`, the hash table stores the probability of that codon among codons encoding the same amino acid.\n",
        "Put your solution in the ```get_probabability_dict``` function. Use the column \"([number])\" to estimate the probabilities, as the two preceding columns contain truncated values.  "
      ]
    },
    {
      "cell_type": "code",
      "execution_count": 6,
      "metadata": {
        "colab": {
          "base_uri": "https://localhost:8080/",
          "height": 238
        },
        "id": "CjIvqwCFAa6s",
        "outputId": "c91d1395-101e-441e-f04d-a8bb9d3b755f"
      },
      "outputs": [
        {
          "output_type": "execute_result",
          "data": {
            "text/html": [
              "\n",
              "  <div id=\"df-f8ffadee-f96d-4729-83fd-5405559ca6b0\">\n",
              "    <div class=\"colab-df-container\">\n",
              "      <div>\n",
              "<style scoped>\n",
              "    .dataframe tbody tr th:only-of-type {\n",
              "        vertical-align: middle;\n",
              "    }\n",
              "\n",
              "    .dataframe tbody tr th {\n",
              "        vertical-align: top;\n",
              "    }\n",
              "\n",
              "    .dataframe thead th {\n",
              "        text-align: right;\n",
              "    }\n",
              "</style>\n",
              "<table border=\"1\" class=\"dataframe\">\n",
              "  <thead>\n",
              "    <tr style=\"text-align: right;\">\n",
              "      <th></th>\n",
              "      <th>amino</th>\n",
              "      <th>fraction</th>\n",
              "      <th>freq</th>\n",
              "      <th>number</th>\n",
              "      <th>probability</th>\n",
              "    </tr>\n",
              "    <tr>\n",
              "      <th>codon</th>\n",
              "      <th></th>\n",
              "      <th></th>\n",
              "      <th></th>\n",
              "      <th></th>\n",
              "      <th></th>\n",
              "    </tr>\n",
              "  </thead>\n",
              "  <tbody>\n",
              "    <tr>\n",
              "      <th>UUU</th>\n",
              "      <td>F</td>\n",
              "      <td>0.46</td>\n",
              "      <td>17.6</td>\n",
              "      <td>714298</td>\n",
              "      <td>0.464134</td>\n",
              "    </tr>\n",
              "    <tr>\n",
              "      <th>UCU</th>\n",
              "      <td>S</td>\n",
              "      <td>0.19</td>\n",
              "      <td>15.2</td>\n",
              "      <td>618711</td>\n",
              "      <td>0.187586</td>\n",
              "    </tr>\n",
              "    <tr>\n",
              "      <th>UAU</th>\n",
              "      <td>Y</td>\n",
              "      <td>0.44</td>\n",
              "      <td>12.2</td>\n",
              "      <td>495699</td>\n",
              "      <td>0.443338</td>\n",
              "    </tr>\n",
              "    <tr>\n",
              "      <th>UGU</th>\n",
              "      <td>C</td>\n",
              "      <td>0.46</td>\n",
              "      <td>10.6</td>\n",
              "      <td>430311</td>\n",
              "      <td>0.456157</td>\n",
              "    </tr>\n",
              "    <tr>\n",
              "      <th>UUC</th>\n",
              "      <td>F</td>\n",
              "      <td>0.54</td>\n",
              "      <td>20.3</td>\n",
              "      <td>824692</td>\n",
              "      <td>0.535866</td>\n",
              "    </tr>\n",
              "  </tbody>\n",
              "</table>\n",
              "</div>\n",
              "      <button class=\"colab-df-convert\" onclick=\"convertToInteractive('df-f8ffadee-f96d-4729-83fd-5405559ca6b0')\"\n",
              "              title=\"Convert this dataframe to an interactive table.\"\n",
              "              style=\"display:none;\">\n",
              "        \n",
              "  <svg xmlns=\"http://www.w3.org/2000/svg\" height=\"24px\"viewBox=\"0 0 24 24\"\n",
              "       width=\"24px\">\n",
              "    <path d=\"M0 0h24v24H0V0z\" fill=\"none\"/>\n",
              "    <path d=\"M18.56 5.44l.94 2.06.94-2.06 2.06-.94-2.06-.94-.94-2.06-.94 2.06-2.06.94zm-11 1L8.5 8.5l.94-2.06 2.06-.94-2.06-.94L8.5 2.5l-.94 2.06-2.06.94zm10 10l.94 2.06.94-2.06 2.06-.94-2.06-.94-.94-2.06-.94 2.06-2.06.94z\"/><path d=\"M17.41 7.96l-1.37-1.37c-.4-.4-.92-.59-1.43-.59-.52 0-1.04.2-1.43.59L10.3 9.45l-7.72 7.72c-.78.78-.78 2.05 0 2.83L4 21.41c.39.39.9.59 1.41.59.51 0 1.02-.2 1.41-.59l7.78-7.78 2.81-2.81c.8-.78.8-2.07 0-2.86zM5.41 20L4 18.59l7.72-7.72 1.47 1.35L5.41 20z\"/>\n",
              "  </svg>\n",
              "      </button>\n",
              "      \n",
              "  <style>\n",
              "    .colab-df-container {\n",
              "      display:flex;\n",
              "      flex-wrap:wrap;\n",
              "      gap: 12px;\n",
              "    }\n",
              "\n",
              "    .colab-df-convert {\n",
              "      background-color: #E8F0FE;\n",
              "      border: none;\n",
              "      border-radius: 50%;\n",
              "      cursor: pointer;\n",
              "      display: none;\n",
              "      fill: #1967D2;\n",
              "      height: 32px;\n",
              "      padding: 0 0 0 0;\n",
              "      width: 32px;\n",
              "    }\n",
              "\n",
              "    .colab-df-convert:hover {\n",
              "      background-color: #E2EBFA;\n",
              "      box-shadow: 0px 1px 2px rgba(60, 64, 67, 0.3), 0px 1px 3px 1px rgba(60, 64, 67, 0.15);\n",
              "      fill: #174EA6;\n",
              "    }\n",
              "\n",
              "    [theme=dark] .colab-df-convert {\n",
              "      background-color: #3B4455;\n",
              "      fill: #D2E3FC;\n",
              "    }\n",
              "\n",
              "    [theme=dark] .colab-df-convert:hover {\n",
              "      background-color: #434B5C;\n",
              "      box-shadow: 0px 1px 3px 1px rgba(0, 0, 0, 0.15);\n",
              "      filter: drop-shadow(0px 1px 2px rgba(0, 0, 0, 0.3));\n",
              "      fill: #FFFFFF;\n",
              "    }\n",
              "  </style>\n",
              "\n",
              "      <script>\n",
              "        const buttonEl =\n",
              "          document.querySelector('#df-f8ffadee-f96d-4729-83fd-5405559ca6b0 button.colab-df-convert');\n",
              "        buttonEl.style.display =\n",
              "          google.colab.kernel.accessAllowed ? 'block' : 'none';\n",
              "\n",
              "        async function convertToInteractive(key) {\n",
              "          const element = document.querySelector('#df-f8ffadee-f96d-4729-83fd-5405559ca6b0');\n",
              "          const dataTable =\n",
              "            await google.colab.kernel.invokeFunction('convertToInteractive',\n",
              "                                                     [key], {});\n",
              "          if (!dataTable) return;\n",
              "\n",
              "          const docLinkHtml = 'Like what you see? Visit the ' +\n",
              "            '<a target=\"_blank\" href=https://colab.research.google.com/notebooks/data_table.ipynb>data table notebook</a>'\n",
              "            + ' to learn more about interactive tables.';\n",
              "          element.innerHTML = '';\n",
              "          dataTable['output_type'] = 'display_data';\n",
              "          await google.colab.output.renderOutput(dataTable, element);\n",
              "          const docLink = document.createElement('div');\n",
              "          docLink.innerHTML = docLinkHtml;\n",
              "          element.appendChild(docLink);\n",
              "        }\n",
              "      </script>\n",
              "    </div>\n",
              "  </div>\n",
              "  "
            ],
            "text/plain": [
              "      amino  fraction  freq  number  probability\n",
              "codon                                           \n",
              "UUU       F      0.46  17.6  714298     0.464134\n",
              "UCU       S      0.19  15.2  618711     0.187586\n",
              "UAU       Y      0.44  12.2  495699     0.443338\n",
              "UGU       C      0.46  10.6  430311     0.456157\n",
              "UUC       F      0.54  20.3  824692     0.535866"
            ]
          },
          "metadata": {},
          "execution_count": 6
        }
      ],
      "source": [
        "df['probability'] = df.apply(lambda x: x.number / df[df.amino==x.amino].number.sum(), axis=1)\n",
        "df.head()"
      ]
    },
    {
      "cell_type": "code",
      "execution_count": 7,
      "metadata": {
        "ExecuteTime": {
          "end_time": "2019-07-08T22:04:22.966173Z",
          "start_time": "2019-07-08T22:04:22.956013Z"
        },
        "colab": {
          "base_uri": "https://localhost:8080/"
        },
        "id": "J4idOdgAjWUT",
        "outputId": "bf002aef-a4bf-4e75-b179-760ca8f7f743"
      },
      "outputs": [
        {
          "output_type": "stream",
          "name": "stdout",
          "text": [
            "      amino  fraction  freq  number  probability\n",
            "codon                                           \n",
            "UAA       *      0.30   1.0   40285     0.297019\n",
            "UGA       *      0.47   1.6   63237     0.466243\n",
            "UAG       *      0.24   0.8   32109     0.236738\n",
            "AAA: 0.434049\tAAC: 0.529633\tAAG: 0.565951\tAAU: 0.470367\tACA: 0.284188\tACC: 0.355232\n",
            "ACG: 0.113812\tACU: 0.246769\tAGA: 0.214658\tAGC: 0.239938\tAGG: 0.211091\tAGU: 0.149602\n",
            "AUA: 0.169062\tAUC: 0.469866\tAUG: 1.000000\tAUU: 0.361072\tCAA: 0.265017\tCAC: 0.581485\n",
            "CAG: 0.734983\tCAU: 0.418515\tCCA: 0.276603\tCCC: 0.323470\tCCG: 0.113196\tCCU: 0.286731\n",
            "CGA: 0.108812\tCGC: 0.183777\tCGG: 0.201554\tCGU: 0.080108\tCUA: 0.071380\tCUC: 0.195577\n",
            "CUG: 0.395702\tCUU: 0.131716\tGAA: 0.422453\tGAC: 0.535458\tGAG: 0.577547\tGAU: 0.464542\n",
            "GCA: 0.228121\tGCC: 0.399781\tGCG: 0.106176\tGCU: 0.265922\tGGA: 0.249922\tGGC: 0.337109\n",
            "GGG: 0.249882\tGGU: 0.163087\tGUA: 0.116577\tGUC: 0.238306\tGUG: 0.463346\tGUU: 0.181770\n",
            "UAA: 0.297019\tUAC: 0.556662\tUAG: 0.236738\tUAU: 0.443338\tUCA: 0.150517\tUCC: 0.217960\n",
            "UCG: 0.054398\tUCU: 0.187586\tUGA: 0.466243\tUGC: 0.543843\tUGG: 1.000000\tUGU: 0.456157\n",
            "UUA: 0.076568\tUUC: 0.535866\tUUG: 0.129058\tUUU: 0.464134\n"
          ]
        }
      ],
      "source": [
        "#print(df.loc['UAA', :], df.sum().number)\n",
        "#print(df.isnull().sum())\n",
        "#df = df.set_index('codon')\n",
        "\n",
        "def get_probabability_dict():\n",
        "    d = dict()\n",
        "    for codon in df.index:\n",
        "        aa = df.loc[codon,'amino']\n",
        "        d[codon] = df.loc[codon,'number'] / df.groupby('amino').sum().loc[aa,'number']\n",
        "    return d\n",
        "\n",
        "print(df[df.amino=='*'])\n",
        "#for x in df.amino.unique():\n",
        "#    print(df[df.amino==x])\n",
        "\n",
        "if __name__ == '__main__':\n",
        "    codon_to_prob = get_probabability_dict()\n",
        "    items = sorted(codon_to_prob.items(), key=lambda x: x[0])\n",
        "    for i in range(1 + len(items)//6):\n",
        "        print(\"\\t\".join(\n",
        "            f\"{k}: {v:.6f}\"\n",
        "            for k, v in items[i*6:6+i*6]\n",
        "        ))"
      ]
    },
    {
      "cell_type": "markdown",
      "metadata": {
        "id": "Pc1STes0jWUT"
      },
      "source": [
        "### Idea of solution\n",
        "\n",
        "fill in "
      ]
    },
    {
      "cell_type": "markdown",
      "metadata": {
        "id": "M5QGMoZtjWUT"
      },
      "source": [
        "### Discussion\n",
        "\n",
        "fill in "
      ]
    },
    {
      "cell_type": "markdown",
      "metadata": {
        "id": "3OCkwhOTjWUU"
      },
      "source": [
        "Now you should have everything in place to easily solve the following.\n",
        "\n",
        "\n",
        "6. Write a class ```ProteinToMaxRNA``` with a ```convert``` method which converts a protein sequence into the most likely RNA sequence to be the source of this protein. Run your program with `LTPIQNRA`."
      ]
    },
    {
      "cell_type": "code",
      "execution_count": 8,
      "metadata": {
        "ExecuteTime": {
          "end_time": "2019-07-08T22:04:23.000743Z",
          "start_time": "2019-07-08T22:04:22.992108Z"
        },
        "colab": {
          "base_uri": "https://localhost:8080/"
        },
        "id": "6do0hNNKjWUU",
        "outputId": "d6b44e7c-96b7-466b-c8ca-ec892e921821"
      },
      "outputs": [
        {
          "output_type": "stream",
          "name": "stdout",
          "text": [
            "CUGACCCCCAUCCAGAACAGAGCC\n"
          ]
        }
      ],
      "source": [
        "class ProteinToMaxRNA:\n",
        "    \n",
        "    def __init__(self):\n",
        "        pass\n",
        "\n",
        "    def convert(self, s):\n",
        "        ret = []\n",
        "        prot2codons = get_dict_list()\n",
        "        codon2prob = get_probabability_dict()\n",
        "        for x in s:\n",
        "            codons = prot2codons[x]\n",
        "            l = [codon2prob[y] for y in codons]\n",
        "            idx = np.argmax(l)\n",
        "            codon = codons[idx]\n",
        "            ret.append(codon)\n",
        "        return \"\".join(ret)\n",
        "\n",
        "\n",
        "if __name__ == '__main__':\n",
        "    protein_to_rna = ProteinToMaxRNA()\n",
        "    print(protein_to_rna.convert(\"LTPIQNRA\"))"
      ]
    },
    {
      "cell_type": "markdown",
      "metadata": {
        "id": "FX0TDwnWjWUU"
      },
      "source": [
        "### Idea of solution\n",
        "\n",
        "fill in "
      ]
    },
    {
      "cell_type": "markdown",
      "metadata": {
        "id": "eokl64-3jWUV"
      },
      "source": [
        "### Discussion\n",
        "\n",
        "fill in "
      ]
    },
    {
      "cell_type": "code",
      "execution_count": 9,
      "metadata": {
        "colab": {
          "base_uri": "https://localhost:8080/",
          "height": 174
        },
        "id": "5uWrT7zAxDcB",
        "outputId": "2dd4fbf3-4f08-4108-e530-29957b7cd4e7"
      },
      "outputs": [
        {
          "output_type": "execute_result",
          "data": {
            "text/html": [
              "\n",
              "  <div id=\"df-b6ed85b2-9a1b-44a9-84e5-9e3689f7d2ef\">\n",
              "    <div class=\"colab-df-container\">\n",
              "      <div>\n",
              "<style scoped>\n",
              "    .dataframe tbody tr th:only-of-type {\n",
              "        vertical-align: middle;\n",
              "    }\n",
              "\n",
              "    .dataframe tbody tr th {\n",
              "        vertical-align: top;\n",
              "    }\n",
              "\n",
              "    .dataframe thead th {\n",
              "        text-align: right;\n",
              "    }\n",
              "</style>\n",
              "<table border=\"1\" class=\"dataframe\">\n",
              "  <thead>\n",
              "    <tr style=\"text-align: right;\">\n",
              "      <th></th>\n",
              "      <th>amino</th>\n",
              "      <th>fraction</th>\n",
              "      <th>freq</th>\n",
              "      <th>number</th>\n",
              "      <th>probability</th>\n",
              "    </tr>\n",
              "    <tr>\n",
              "      <th>codon</th>\n",
              "      <th></th>\n",
              "      <th></th>\n",
              "      <th></th>\n",
              "      <th></th>\n",
              "      <th></th>\n",
              "    </tr>\n",
              "  </thead>\n",
              "  <tbody>\n",
              "    <tr>\n",
              "      <th>AUU</th>\n",
              "      <td>I</td>\n",
              "      <td>0.36</td>\n",
              "      <td>16.0</td>\n",
              "      <td>650473</td>\n",
              "      <td>0.361072</td>\n",
              "    </tr>\n",
              "    <tr>\n",
              "      <th>AUC</th>\n",
              "      <td>I</td>\n",
              "      <td>0.47</td>\n",
              "      <td>20.8</td>\n",
              "      <td>846466</td>\n",
              "      <td>0.469866</td>\n",
              "    </tr>\n",
              "    <tr>\n",
              "      <th>AUA</th>\n",
              "      <td>I</td>\n",
              "      <td>0.17</td>\n",
              "      <td>7.5</td>\n",
              "      <td>304565</td>\n",
              "      <td>0.169062</td>\n",
              "    </tr>\n",
              "  </tbody>\n",
              "</table>\n",
              "</div>\n",
              "      <button class=\"colab-df-convert\" onclick=\"convertToInteractive('df-b6ed85b2-9a1b-44a9-84e5-9e3689f7d2ef')\"\n",
              "              title=\"Convert this dataframe to an interactive table.\"\n",
              "              style=\"display:none;\">\n",
              "        \n",
              "  <svg xmlns=\"http://www.w3.org/2000/svg\" height=\"24px\"viewBox=\"0 0 24 24\"\n",
              "       width=\"24px\">\n",
              "    <path d=\"M0 0h24v24H0V0z\" fill=\"none\"/>\n",
              "    <path d=\"M18.56 5.44l.94 2.06.94-2.06 2.06-.94-2.06-.94-.94-2.06-.94 2.06-2.06.94zm-11 1L8.5 8.5l.94-2.06 2.06-.94-2.06-.94L8.5 2.5l-.94 2.06-2.06.94zm10 10l.94 2.06.94-2.06 2.06-.94-2.06-.94-.94-2.06-.94 2.06-2.06.94z\"/><path d=\"M17.41 7.96l-1.37-1.37c-.4-.4-.92-.59-1.43-.59-.52 0-1.04.2-1.43.59L10.3 9.45l-7.72 7.72c-.78.78-.78 2.05 0 2.83L4 21.41c.39.39.9.59 1.41.59.51 0 1.02-.2 1.41-.59l7.78-7.78 2.81-2.81c.8-.78.8-2.07 0-2.86zM5.41 20L4 18.59l7.72-7.72 1.47 1.35L5.41 20z\"/>\n",
              "  </svg>\n",
              "      </button>\n",
              "      \n",
              "  <style>\n",
              "    .colab-df-container {\n",
              "      display:flex;\n",
              "      flex-wrap:wrap;\n",
              "      gap: 12px;\n",
              "    }\n",
              "\n",
              "    .colab-df-convert {\n",
              "      background-color: #E8F0FE;\n",
              "      border: none;\n",
              "      border-radius: 50%;\n",
              "      cursor: pointer;\n",
              "      display: none;\n",
              "      fill: #1967D2;\n",
              "      height: 32px;\n",
              "      padding: 0 0 0 0;\n",
              "      width: 32px;\n",
              "    }\n",
              "\n",
              "    .colab-df-convert:hover {\n",
              "      background-color: #E2EBFA;\n",
              "      box-shadow: 0px 1px 2px rgba(60, 64, 67, 0.3), 0px 1px 3px 1px rgba(60, 64, 67, 0.15);\n",
              "      fill: #174EA6;\n",
              "    }\n",
              "\n",
              "    [theme=dark] .colab-df-convert {\n",
              "      background-color: #3B4455;\n",
              "      fill: #D2E3FC;\n",
              "    }\n",
              "\n",
              "    [theme=dark] .colab-df-convert:hover {\n",
              "      background-color: #434B5C;\n",
              "      box-shadow: 0px 1px 3px 1px rgba(0, 0, 0, 0.15);\n",
              "      filter: drop-shadow(0px 1px 2px rgba(0, 0, 0, 0.3));\n",
              "      fill: #FFFFFF;\n",
              "    }\n",
              "  </style>\n",
              "\n",
              "      <script>\n",
              "        const buttonEl =\n",
              "          document.querySelector('#df-b6ed85b2-9a1b-44a9-84e5-9e3689f7d2ef button.colab-df-convert');\n",
              "        buttonEl.style.display =\n",
              "          google.colab.kernel.accessAllowed ? 'block' : 'none';\n",
              "\n",
              "        async function convertToInteractive(key) {\n",
              "          const element = document.querySelector('#df-b6ed85b2-9a1b-44a9-84e5-9e3689f7d2ef');\n",
              "          const dataTable =\n",
              "            await google.colab.kernel.invokeFunction('convertToInteractive',\n",
              "                                                     [key], {});\n",
              "          if (!dataTable) return;\n",
              "\n",
              "          const docLinkHtml = 'Like what you see? Visit the ' +\n",
              "            '<a target=\"_blank\" href=https://colab.research.google.com/notebooks/data_table.ipynb>data table notebook</a>'\n",
              "            + ' to learn more about interactive tables.';\n",
              "          element.innerHTML = '';\n",
              "          dataTable['output_type'] = 'display_data';\n",
              "          await google.colab.output.renderOutput(dataTable, element);\n",
              "          const docLink = document.createElement('div');\n",
              "          docLink.innerHTML = docLinkHtml;\n",
              "          element.appendChild(docLink);\n",
              "        }\n",
              "      </script>\n",
              "    </div>\n",
              "  </div>\n",
              "  "
            ],
            "text/plain": [
              "      amino  fraction  freq  number  probability\n",
              "codon                                           \n",
              "AUU       I      0.36  16.0  650473     0.361072\n",
              "AUC       I      0.47  20.8  846466     0.469866\n",
              "AUA       I      0.17   7.5  304565     0.169062"
            ]
          },
          "metadata": {},
          "execution_count": 9
        }
      ],
      "source": [
        "df[df.amino=='I']"
      ]
    },
    {
      "cell_type": "markdown",
      "metadata": {
        "id": "DDgd9VaGjWUV"
      },
      "source": [
        "Now we are almost ready to produce random RNA sequences that code a given protein sequence. For this, we need a subroutine to *sample from a probability distribution*. Consider our earlier example of probabilities 36/100, 47/100, and 17/100 for `AUU`, `AUC`, and `AUA`, respectively. \n",
        "Let us assume we have a random number generator ```random()``` that returns a random number from interval $[0,1)$. We may then partition the unit interval according to cumulative probabilities to $[0,36/100), [36/100,83/100), [83/100,1)$, respectively. Depending which interval the number ```random()``` hits, we select the codon accordingly.\n",
        "\n",
        "7. Write a function ```random_event``` that chooses a random event, given a probability distribution (set of events whose probabilities sum to 1).\n",
        "You can use function ```random.uniform``` to produce values uniformly at random from the range $[0,1)$. The distribution should be given to your function as a dictionary from events to their probabilities."
      ]
    },
    {
      "cell_type": "code",
      "execution_count": 10,
      "metadata": {
        "colab": {
          "base_uri": "https://localhost:8080/"
        },
        "id": "g1rVnZrM0Yuq",
        "outputId": "0003a482-6288-4741-9748-78c62ae56cdf"
      },
      "outputs": [
        {
          "output_type": "execute_result",
          "data": {
            "text/plain": [
              "array([ 1,  3,  6, 10, 15])"
            ]
          },
          "metadata": {},
          "execution_count": 10
        }
      ],
      "source": [
        "np.cumsum([1,2,3,4,5])"
      ]
    },
    {
      "cell_type": "code",
      "execution_count": 11,
      "metadata": {
        "ExecuteTime": {
          "end_time": "2019-07-08T22:04:23.036655Z",
          "start_time": "2019-07-08T22:04:23.030067Z"
        },
        "colab": {
          "base_uri": "https://localhost:8080/"
        },
        "id": "yWDowZuYjWUV",
        "outputId": "70d563f2-c705-4258-c1d0-23fd7404c5e5"
      },
      "outputs": [
        {
          "output_type": "stream",
          "name": "stdout",
          "text": [
            "G, T, G, A, T, T, A, A, A, T, T, T, T, G, G, C, C, C, T, T, T, G, G, G, C, T, C, T, A\n"
          ]
        }
      ],
      "source": [
        "def random_event(dist):\n",
        "    \"\"\"\n",
        "    Takes as input a dictionary from events to their probabilities.\n",
        "    Return a random event sampled according to the given distribution.\n",
        "    The probabilities must sum to 1.0\n",
        "    \"\"\"\n",
        "    chars, l = list(dist.keys()), list(dist.values())\n",
        "    x = np.random.uniform()\n",
        "    l = np.cumsum(l)\n",
        "    for i, v in enumerate(l):\n",
        "        if x > v:\n",
        "            continue\n",
        "        return chars[i]\n",
        "    #return next(iter(dist))\n",
        "\n",
        "if __name__ == '__main__':\n",
        "    distribution = dict(zip(\"ACGT\", [0.10, 0.35, 0.15, 0.40]))\n",
        "    print(\", \".join(random_event(distribution) for _ in range(29)))"
      ]
    },
    {
      "cell_type": "markdown",
      "metadata": {
        "id": "TsuMq5KljWUV"
      },
      "source": [
        "### Idea of solution\n",
        "\n",
        "fill in "
      ]
    },
    {
      "cell_type": "markdown",
      "metadata": {
        "id": "JrxQiFemjWUV"
      },
      "source": [
        "### Discussion\n",
        "\n",
        "fill in "
      ]
    },
    {
      "cell_type": "markdown",
      "metadata": {
        "id": "5VMxptHijWUW"
      },
      "source": [
        "With this general routine, the following should be easy to solve.\n",
        " \n",
        "8. Write a class ```ProteinToRandomRNA``` to produce a random RNA sequence encoding the input protein sequence according to the input codon adaptation probabilities. The actual conversion is done through the ```convert``` method. Run your program with `LTPIQNRA`."
      ]
    },
    {
      "cell_type": "code",
      "execution_count": 12,
      "metadata": {
        "ExecuteTime": {
          "end_time": "2019-07-08T22:04:23.073660Z",
          "start_time": "2019-07-08T22:04:23.067966Z"
        },
        "colab": {
          "base_uri": "https://localhost:8080/"
        },
        "id": "IEiHSLMljWUW",
        "outputId": "bba7aab8-e0e7-4b3a-8766-1853e57e44f8"
      },
      "outputs": [
        {
          "output_type": "stream",
          "name": "stdout",
          "text": [
            "UUGACACCUAUACAGAACAGAGCC\n"
          ]
        }
      ],
      "source": [
        "class ProteinToRandomRNA(object):\n",
        "    \n",
        "    def __init__(self):\n",
        "        pass\n",
        "\n",
        "    def convert(self, s):\n",
        "        ret = []\n",
        "        prot2codons = get_dict_list()\n",
        "        codon2prob = get_probabability_dict()\n",
        "        for x in s:\n",
        "            codons = prot2codons[x]\n",
        "            l = [codon2prob[y] for y in codons]\n",
        "            codon = random_event(dict(zip(codons, l)))\n",
        "            ret.append(codon)\n",
        "        return \"\".join(ret)\n",
        "        \n",
        "if __name__ == '__main__':\n",
        "    protein_to_random_codons = ProteinToRandomRNA()\n",
        "    print(protein_to_random_codons.convert(\"LTPIQNRA\"))"
      ]
    },
    {
      "cell_type": "markdown",
      "metadata": {
        "id": "ms1-56NojWUW"
      },
      "source": [
        "### Idea of solution\n",
        "\n",
        "fill in "
      ]
    },
    {
      "cell_type": "markdown",
      "metadata": {
        "id": "rIY_xRc5jWUW"
      },
      "source": [
        "### Discussion\n",
        "\n",
        "fill in "
      ]
    },
    {
      "cell_type": "markdown",
      "metadata": {
        "id": "nONtNM7kjWUX"
      },
      "source": [
        "## Generating DNA sequences with higher-order Markov chains\n",
        "\n",
        "We will now reuse the machinery derived above in a related context. We go back to DNA sequences, and consider some easy statistics that can be used to characterize the sequences. \n",
        "First, just the frequencies of bases $\\texttt{A}$, $\\texttt{C}$, $\\texttt{G}$, $\\texttt{T}$ may reveal the species from which the input DNA originates; each species has a different base composition that has been formed during evolution. \n",
        "More interestingly, the areas where DNA to RNA transcription takes place (coding region) have an excess of $\\texttt{C}$ and $\\texttt{G}$ over $\\texttt{A}$ and $\\texttt{T}$. To detect such areas a common routine is to just use a *sliding window* of fixed size, say $k$, and compute for each window position \n",
        "$T[i..i+k-1]$ the base frequencies, where $T[1..n]$ is the input DNA sequence. When sliding the window from  $T[i..i+k-1]$ to $T[i+1..i+k]$ frequency $f(T[i])$ gets decreases by one and $f(T[i+k])$ gets increased by one. \n",
        "\n",
        "9. Write a *generator* ```sliding_window``` to compute sliding window base frequencies so that each moving of the window takes constant time. We saw in the beginning of the course one way how to create generators using\n",
        "  generator expression. Here we use a different way. For the function ```sliding_window``` to be a generator, it must have at least   one ```yield``` expression, see [https://docs.python.org/3/reference/expressions.html#yieldexpr](https://docs.python.org/3/reference/expressions.html#yieldexpr).\n",
        "  \n",
        "  Here is an example of a generator expression that works similarily to the built in `range` generator:\n",
        "  ```Python\n",
        "  def range(a, b=None, c=1):\n",
        "      current = 0 if b == None else a\n",
        "      end = a if b == None else b\n",
        "      while current < end:\n",
        "          yield current\n",
        "          current += c\n",
        "  ```\n",
        "  A yield expression can be used to return a value and *temporarily* return from the function."
      ]
    },
    {
      "cell_type": "code",
      "execution_count": 13,
      "metadata": {
        "ExecuteTime": {
          "end_time": "2019-07-08T22:04:23.111365Z",
          "start_time": "2019-07-08T22:04:23.100858Z"
        },
        "colab": {
          "base_uri": "https://localhost:8080/"
        },
        "id": "LYRTQsAOjWUX",
        "outputId": "c3206c9d-8f27-4b37-9a1f-e06ec4ce92fb"
      },
      "outputs": [
        {
          "output_type": "stream",
          "name": "stdout",
          "text": [
            "{'A': 0, 'C': 3, 'G': 0, 'T': 1}\n",
            "{'A': 0, 'C': 3, 'G': 1, 'T': 0}\n",
            "{'A': 1, 'C': 2, 'G': 1, 'T': 0}\n",
            "{'A': 1, 'C': 2, 'G': 1, 'T': 0}\n",
            "{'A': 1, 'C': 1, 'G': 2, 'T': 0}\n",
            "{'A': 1, 'C': 1, 'G': 2, 'T': 0}\n",
            "{'A': 0, 'C': 2, 'G': 2, 'T': 0}\n",
            "{'A': 0, 'C': 2, 'G': 2, 'T': 0}\n",
            "{'A': 0, 'C': 2, 'G': 1, 'T': 1}\n",
            "{'A': 0, 'C': 2, 'G': 0, 'T': 2}\n",
            "{'A': 0, 'C': 1, 'G': 1, 'T': 2}\n",
            "{'A': 0, 'C': 1, 'G': 1, 'T': 2}\n",
            "{'A': 0, 'C': 2, 'G': 1, 'T': 1}\n"
          ]
        }
      ],
      "source": [
        "# 01234567\n",
        "# 012\n",
        "#  123\n",
        "#   234\n",
        "#    345\n",
        "#     456\n",
        "#      567\n",
        "from collections import Counter\n",
        "\n",
        "def sliding_window(s, k):\n",
        "    \"\"\"\n",
        "    This function returns a generator that can be iterated over all\n",
        "    starting position of a k-window in the sequence.\n",
        "    For each starting position the generator returns the nucleotide frequencies\n",
        "    in the window as a dictionary.\n",
        "    \"\"\"\n",
        "    l = list(s)\n",
        "    for i in range(len(s)-k+1):\n",
        "        orig = dict()\n",
        "        for x in set(list(s)):\n",
        "            orig[x] = 0\n",
        "        w = np.array(l[i:i+k])\n",
        "        #u = np.unique(w, return_counts=True)\n",
        "        #d = dict(zip(u[0], u[1]))\n",
        "        orig.update(dict(Counter(w)))\n",
        "        yield orig\n",
        "    \n",
        "if __name__ == '__main__':\n",
        "    s = \"TCCCGACGGCCTTGCC\" #DNA\n",
        "    for d in sliding_window(s, 4):\n",
        "        print(d)"
      ]
    },
    {
      "cell_type": "markdown",
      "metadata": {
        "id": "C6iKXhrZjWUY"
      },
      "source": [
        "### Idea of solution\n",
        "\n",
        "fill in "
      ]
    },
    {
      "cell_type": "markdown",
      "metadata": {
        "id": "vXhIEJpejWUZ"
      },
      "source": [
        "### Discussion\n",
        "\n",
        "fill in "
      ]
    },
    {
      "cell_type": "markdown",
      "metadata": {
        "id": "3SMbrUeHjWUZ"
      },
      "source": [
        " \n",
        "Our models so far have been so-called *zero-order* models, as each event has been independent of other events. With sequences, the dependencies of events are naturally encoded by their *contexts*. Considering that a sequence is produced from left-to-right, a *first-order* context for $T[i]$ is $T[i-1]$, that is, the immediately preceding symbol. *First-order Markov chain* is a sequence produced by generating $c=T[i]$ with the probability of event of seeing symbol $c$ after previously generated symbol $a=T[i-1]$. The first symbol of the chain is sampled according to the zero-order model.  \n",
        "The first-order model can naturally be extended to contexts of length $k$, with $T[i]$ depending on $T[i-k..i-1]$. Then the first $k$ symbols of the chain are sampled according to the zero-order model.  The following assignments develop the routines to work with the *higher-order Markov chains*. \n",
        "In what follows, a $k$-mer is a substring $T[i..i+k-1]$ of the sequence at an arbitrary position. \n",
        "\n",
        "10. Write function ```context_list``` that given an input DNA sequence $T$ associates to each $k$-mer $W$ the concatenation of all symbols $c$ that appear after context $W$ in $T$, that is, $T[i..i+k]=Wc$. For example, <span style=\"color:red; font:courier;\">GA</span> is associated to <span style=\"color:blue; font: courier;\">TCT</span> in $T$=<span style=\"font: courier;\">AT<span style=\"color:red;\">GA</span><span style=\"color:blue;\">T</span>ATCATC<span style=\"color:red;\">GA</span><span style=\"color:blue;\">C</span><span style=\"color:red;\">GA</span><span style=\"color:blue;\">T</span>GTAG</span>, when $k=2$."
      ]
    },
    {
      "cell_type": "code",
      "execution_count": 14,
      "metadata": {
        "ExecuteTime": {
          "end_time": "2019-07-08T22:04:23.168108Z",
          "start_time": "2019-07-08T22:04:23.162648Z"
        },
        "id": "NzFoq6ubjWUZ",
        "colab": {
          "base_uri": "https://localhost:8080/"
        },
        "outputId": "3a35b9bb-b895-48f7-fa6f-faa85168a7df"
      },
      "outputs": [
        {
          "output_type": "stream",
          "name": "stdout",
          "text": [
            "{'AT': 'GACCG', 'TG': 'AT', 'GA': 'TCT', 'TA': 'TG', 'TC': 'AG', 'CA': 'T', 'CG': 'AA', 'AC': 'G', 'GT': 'A'}\n"
          ]
        }
      ],
      "source": [
        "def context_list(s, k):\n",
        "    d = dict()\n",
        "    l = list(s)\n",
        "    for i in range(len(l)-k):\n",
        "        a = \"\".join(l[i:i+k])\n",
        "        c = l[i+k]\n",
        "        if a in d.keys():\n",
        "            d[a] += c\n",
        "        else:\n",
        "            d[a] = c\n",
        "    return d\n",
        "    \n",
        "if __name__ == '__main__':\n",
        "    k = 2\n",
        "    s = \"ATGATATCATCGACGATGTAG\"\n",
        "    d = context_list(s, k)\n",
        "    print(d)\n",
        "\n",
        " # AT: GACCG\n",
        " # TG: AT\n",
        " # GA: TCT\n",
        " # TA: TG\n",
        " # TC: AG\n",
        " #    "
      ]
    },
    {
      "cell_type": "markdown",
      "metadata": {
        "id": "affbrrP7jWUa"
      },
      "source": [
        "### Idea of solution\n",
        "\n",
        "fill in"
      ]
    },
    {
      "cell_type": "markdown",
      "metadata": {
        "id": "HHDPtBucjWUa"
      },
      "source": [
        "### Discussion\n",
        "\n",
        "fill in"
      ]
    },
    {
      "cell_type": "markdown",
      "metadata": {
        "id": "LijoSsT8jWUa"
      },
      "source": [
        "##11. With the above solution, write function ```context_probabilities``` to count the frequencies of symbols in each context and convert these frequencies into probabilities. Run `context_probabilities` with $T=$ `ATGATATCATCGACGATGTAG` and $k$ values 0 and 2."
      ]
    },
    {
      "cell_type": "code",
      "execution_count": 15,
      "metadata": {
        "ExecuteTime": {
          "end_time": "2019-07-08T22:04:23.218964Z",
          "start_time": "2019-07-08T22:04:23.213773Z"
        },
        "id": "9DWG8EQgjWUa",
        "colab": {
          "base_uri": "https://localhost:8080/"
        },
        "outputId": "996c0f6e-6a4f-42ed-a20f-9ceee195c5fa"
      },
      "outputs": [
        {
          "output_type": "stream",
          "name": "stdout",
          "text": [
            "{'': {'A': 0.3333333333333333, 'T': 0.2857142857142857, 'G': 0.23809523809523808, 'C': 0.14285714285714285}}\n",
            "{'AT': {'G': 0.4, 'A': 0.2, 'C': 0.4, 'T': 0.0}, 'TG': {'A': 0.5, 'T': 0.5, 'C': 0.0, 'G': 0.0}, 'GA': {'T': 0.6666666666666666, 'C': 0.3333333333333333, 'A': 0.0, 'G': 0.0}, 'TA': {'T': 0.5, 'G': 0.5, 'A': 0.0, 'C': 0.0}, 'TC': {'A': 0.5, 'G': 0.5, 'C': 0.0, 'T': 0.0}, 'CA': {'T': 1.0, 'A': 0.0, 'C': 0.0, 'G': 0.0}, 'CG': {'A': 1.0, 'C': 0.0, 'G': 0.0, 'T': 0.0}, 'AC': {'G': 1.0, 'A': 0.0, 'C': 0.0, 'T': 0.0}, 'GT': {'A': 1.0, 'C': 0.0, 'G': 0.0, 'T': 0.0}}\n"
          ]
        }
      ],
      "source": [
        "def f(s):\n",
        "    d = Counter(s)\n",
        "    total = sum(d.values())\n",
        "    for k, v in d.items():\n",
        "        d[k] /= total \n",
        "    return dict(d)\n",
        "\n",
        "def context_probabilities(s, k):\n",
        "    d = context_list(s, k)\n",
        "    #print(d)\n",
        "    for k, v in d.items():\n",
        "        d[k] =  f(v)\n",
        "    for k, v in d.items():\n",
        "        for x in list(\"ACGT\"):\n",
        "            if not x in v.keys():\n",
        "                v.update({x:0.})\n",
        "        assert len(v) == 4, print(v)        \n",
        "    return d\n",
        "    \n",
        "if __name__ == '__main__':\n",
        "    for k in [0, 2]:\n",
        "        s = \"ATGATATCATCGACGATGTAG\"\n",
        "        d = context_probabilities(s, k)\n",
        "        print(d)"
      ]
    },
    {
      "cell_type": "markdown",
      "metadata": {
        "id": "_AJJ1RKqjWUa"
      },
      "source": [
        "### Idea of solution\n",
        "\n",
        "fill in"
      ]
    },
    {
      "cell_type": "markdown",
      "metadata": {
        "id": "nA99gO3wjWUb"
      },
      "source": [
        "### Discussion\n",
        "\n",
        "fill in"
      ]
    },
    {
      "cell_type": "markdown",
      "metadata": {
        "id": "hlrZxjcJjWUb"
      },
      "source": [
        "12. With the above solution and the function ```random_event``` from the earlier exercise, write class ```MarkovChain```. Its ```generate``` method should generate a random DNA sequence following the original $k$-th order Markov chain probabilities. "
      ]
    },
    {
      "cell_type": "code",
      "execution_count": 16,
      "metadata": {
        "ExecuteTime": {
          "end_time": "2019-07-08T22:04:23.279315Z",
          "start_time": "2019-07-08T22:04:23.253983Z"
        },
        "id": "oGDDtZUrjWUb",
        "colab": {
          "base_uri": "https://localhost:8080/"
        },
        "outputId": "a27745dd-b94a-486c-b43e-64a493ab6078"
      },
      "outputs": [
        {
          "output_type": "stream",
          "name": "stdout",
          "text": [
            "\n"
          ]
        }
      ],
      "source": [
        "class MarkovChain:\n",
        "    \n",
        "    def __init__(self, zeroth, kth, k=2):\n",
        "        self.k = k\n",
        "        self.zeroth = zeroth\n",
        "        self.kth = kth\n",
        "        \n",
        "    def generate(self, n, seed=None):\n",
        "        k = self.k\n",
        "        kth = self.kth\n",
        "        mer = \"\".join([random_event(self.zeroth) for _ in range(k)])\n",
        "        if n < k:\n",
        "            return mer[:n]\n",
        "        key = mer\n",
        "        while len(mer) < n:\n",
        "            mer += random_event(kth[key])\n",
        "            key = \"\".join(mer[-k:])\n",
        "        return mer\n",
        "\n",
        "if __name__ == '__main__':\n",
        "    zeroth = {'A': 0.2, 'C': 0.19, 'T': 0.31, 'G': 0.3}\n",
        "    kth = {'GT': {'A': 1.0, 'C': 0.0, 'T': 0.0, 'G': 0.0},\n",
        "           'CA': {'A': 0.0, 'C': 0.0, 'T': 1.0, 'G': 0.0},\n",
        "           'TC': {'A': 0.5, 'C': 0.0, 'T': 0.0, 'G': 0.5},\n",
        "           'GA': {'A': 0.0, 'C': 0.3333333333333333, 'T': 0.6666666666666666, 'G': 0.0},\n",
        "           'TG': {'A': 0.5, 'C': 0.0, 'T': 0.5, 'G': 0.0},\n",
        "           'AT': {'A': 0.2, 'C': 0.4, 'T': 0.0, 'G': 0.4},\n",
        "           'TA': {'A': 0.0, 'C': 0.0, 'T': 0.5, 'G': 0.5},\n",
        "           'AC': {'A': 0.0, 'C': 0.0, 'T': 0.0, 'G': 1.0},\n",
        "           'CG': {'A': 1.0, 'C': 0.0, 'T': 0.0, 'G': 0.0}}\n",
        "    n = 0    \n",
        "    seed = 0\n",
        "    mc = MarkovChain(zeroth, kth)\n",
        "    print(mc.generate(n, seed))"
      ]
    },
    {
      "cell_type": "markdown",
      "metadata": {
        "id": "1BtFNoiojWUb"
      },
      "source": [
        "### Idea of solution\n",
        "\n",
        "fill in"
      ]
    },
    {
      "cell_type": "markdown",
      "metadata": {
        "id": "mVDaSFysjWUb"
      },
      "source": [
        "### Discussion\n",
        "\n",
        "fill in "
      ]
    },
    {
      "cell_type": "markdown",
      "metadata": {
        "id": "BT-N5-3ljWUc"
      },
      "source": [
        "If you have survived so far without problems, please run your program a few more times with different inputs. At some point you should get a lookup error in your hash-table! The reason for this is not your code, but the way we defined the model: Some $k$-mers may not be among the training data (input sequence $T$), but such can be generated as the first $k$-mer that is generated using the zero-order model.  \n",
        "\n",
        "A general approach to fixing such issues with incomplete training data is to use **pseudo counts**. That is, **all imaginable events are initialized to frequency count 1**.   \n",
        "\n",
        "13. Write a new solution `context_pseudo_probabilities` based on the solution to problem 11. But this time use pseudo counts in order to obtain a $k$-th order Markov chain that can assign a probability for any DNA sequence. You may use the standard library function `itertools.product` to iterate over all $k$-mer of given length (`product(\"ACGT\", repeat=k)`)."
      ]
    },
    {
      "cell_type": "code",
      "execution_count": 17,
      "metadata": {
        "ExecuteTime": {
          "end_time": "2019-07-08T22:04:23.303566Z",
          "start_time": "2019-07-08T22:04:23.296028Z"
        },
        "id": "bgh7XBdbjWUc",
        "colab": {
          "base_uri": "https://localhost:8080/"
        },
        "outputId": "3544ad64-881b-47ea-ab9a-ebeb46aa070d"
      },
      "outputs": [
        {
          "output_type": "stream",
          "name": "stdout",
          "text": [
            "AA: {'A': 0.25, 'C': 0.25, 'G': 0.25, 'T': 0.25}\n",
            "AC: {'G': 0.4, 'A': 0.2, 'C': 0.2, 'T': 0.2}\n",
            "AG: {'A': 0.25, 'C': 0.25, 'G': 0.25, 'T': 0.25}\n",
            "AT: {'G': 0.3333333333333333, 'A': 0.2222222222222222, 'C': 0.3333333333333333, 'T': 0.1111111111111111}\n",
            "CA: {'T': 0.4, 'A': 0.2, 'C': 0.2, 'G': 0.2}\n",
            "CC: {'A': 0.25, 'C': 0.25, 'G': 0.25, 'T': 0.25}\n",
            "CG: {'A': 0.5, 'C': 0.16666666666666666, 'G': 0.16666666666666666, 'T': 0.16666666666666666}\n",
            "CT: {'A': 0.25, 'C': 0.25, 'G': 0.25, 'T': 0.25}\n",
            "GA: {'T': 0.42857142857142855, 'C': 0.2857142857142857, 'A': 0.14285714285714285, 'G': 0.14285714285714285}\n",
            "GC: {'A': 0.25, 'C': 0.25, 'G': 0.25, 'T': 0.25}\n",
            "GG: {'A': 0.25, 'C': 0.25, 'G': 0.25, 'T': 0.25}\n",
            "GT: {'A': 0.4, 'C': 0.2, 'G': 0.2, 'T': 0.2}\n",
            "TA: {'T': 0.3333333333333333, 'G': 0.3333333333333333, 'A': 0.16666666666666666, 'C': 0.16666666666666666}\n",
            "TC: {'A': 0.3333333333333333, 'G': 0.3333333333333333, 'C': 0.16666666666666666, 'T': 0.16666666666666666}\n",
            "TG: {'A': 0.3333333333333333, 'T': 0.3333333333333333, 'C': 0.16666666666666666, 'G': 0.16666666666666666}\n",
            "TT: {'A': 0.25, 'C': 0.25, 'G': 0.25, 'T': 0.25}\n"
          ]
        }
      ],
      "source": [
        "import itertools\n",
        "\n",
        "def my_context_probabilities(s, k):\n",
        "\n",
        "    def f(s):\n",
        "        d = Counter(s+\"ACGT\")\n",
        "        #print(d)\n",
        "        total = sum(d.values())\n",
        "        for k, v in d.items():\n",
        "            d[k] /= total \n",
        "        return dict(d)\n",
        "\n",
        "    d = context_list(s, k)\n",
        "    #print(d)\n",
        "    for k, v in d.items():\n",
        "        d[k] =  f(v)\n",
        "    for k, v in d.items():\n",
        "        for x in list(\"ACGT\"):\n",
        "            if not x in v.keys():\n",
        "                v.update({x:0.})\n",
        "        assert len(v) == 4, print(v)        \n",
        "    return d\n",
        "\n",
        "def template_probabilities(k):\n",
        "    d = dict()\n",
        "    l = [\"\".join(x) for x in list(itertools.product('ACGT', repeat=k))]\n",
        "    #print(l)\n",
        "    for x in l:\n",
        "        d[x] = dict(zip(list('ACGT'), [0.25]*len('ACGT')))\n",
        "    #print(d)\n",
        "    return d\n",
        "\n",
        "def context_pseudo_probabilities(s, k):\n",
        "    d = template_probabilities(k)\n",
        "    d1 = my_context_probabilities(s, k)\n",
        "    #print(d1)\n",
        "    d.update(d1)\n",
        "    #print(d)\n",
        "    return d\n",
        "    \n",
        "if __name__ == '__main__':\n",
        "    k = 2\n",
        "    s = \"ATGATATCATCGACGATGTAG\"\n",
        "    kth = context_pseudo_probabilities(s, k)\n",
        "    #zeroth = context_pseudo_probabilities(s, 0)[\"\"]\n",
        "    #print(f\"zeroth: {zeroth}\")\n",
        "    print(\"\\n\".join(f\"{k}: {dict(v)}\" for k, v in kth.items()))\n",
        "    \n",
        "    #print(\"\\n\", MarkovChain(zeroth, kth, k).generate(20))        self.assertAlmostEqual(d[\"CT\"]['C'], 0.250000, places=places)"
      ]
    },
    {
      "cell_type": "markdown",
      "metadata": {
        "id": "swLRx4M9jWUc"
      },
      "source": [
        "### Idea of solution\n",
        "\n",
        "fill in "
      ]
    },
    {
      "cell_type": "markdown",
      "metadata": {
        "id": "SqGoa7zBjWUc"
      },
      "source": [
        "### Discussion\n",
        "\n",
        "fill in "
      ]
    },
    {
      "cell_type": "markdown",
      "metadata": {
        "id": "Ojt6jhgTjWUd"
      },
      "source": [
        "14. Write class ```MarkovProb``` that given the $k$-th order Markov chain developed above to the constructor, its method ```probability``` computes the probability of a given input DNA sequence."
      ]
    },
    {
      "cell_type": "code",
      "execution_count": 18,
      "metadata": {
        "ExecuteTime": {
          "end_time": "2019-07-08T22:04:23.346222Z",
          "start_time": "2019-07-08T22:04:23.330779Z"
        },
        "id": "WYYh3U0JjWUe",
        "colab": {
          "base_uri": "https://localhost:8080/"
        },
        "outputId": "8097e4c8-54fe-4bd5-dba9-2d9a6526a4a6"
      },
      "outputs": [
        {
          "output_type": "stream",
          "name": "stdout",
          "text": [
            "Probability of sequence A is 0.32\n"
          ]
        }
      ],
      "source": [
        "class MarkovProb:\n",
        "    def __init__(self, k, zeroth, kth):\n",
        "        self.k = k\n",
        "        self.zeroth = zeroth\n",
        "        self.kth = kth\n",
        "        \n",
        "    def probability(self, s):\n",
        "        k, zeroth, kth = self.k, self.zeroth, self.kth\n",
        "        prob = 1.\n",
        "        if len(s) < k:\n",
        "            for i in range(len(s)):\n",
        "                prob *= zeroth[s[i]]\n",
        "                return prob\n",
        "        else:\n",
        "            for i in range(k):\n",
        "                prob *= zeroth[s[i]]\n",
        "            for i in range(len(s)-k):\n",
        "                w = s[i:i+k]\n",
        "                d = kth[w]\n",
        "                c = s[i+k]\n",
        "                #print(w, c)\n",
        "                prob *= d[c]\n",
        "            return prob\n",
        "\n",
        "    \n",
        "if __name__ == '__main__':\n",
        "    k = 2\n",
        "    kth = context_pseudo_probabilities(\"ATGATATCATCGACGATGTAG\", k)\n",
        "    zeroth = context_pseudo_probabilities(\"ATGATATCATCGACGATGTAG\", 0)[\"\"]\n",
        "    mc = MarkovProb(2, zeroth, kth)\n",
        "    #s=\"ATGATATCATCGACGATGTAG\"\n",
        "    s='A'\n",
        "    print(f\"Probability of sequence {s} is {mc.probability(s)}\")"
      ]
    },
    {
      "cell_type": "markdown",
      "metadata": {
        "id": "yDywx6YGjWUe"
      },
      "source": [
        "### Idea of solution\n",
        "\n",
        "fill in"
      ]
    },
    {
      "cell_type": "markdown",
      "metadata": {
        "id": "B1jhNm4mjWUf"
      },
      "source": [
        "### Discussion\n",
        "\n",
        "fill in"
      ]
    },
    {
      "cell_type": "markdown",
      "metadata": {
        "id": "8y6rhIWgjWUf"
      },
      "source": [
        "With the last assignment you might end up in trouble with precision, as multiplying many small probabilities gives a really small number in the end. There is an easy fix by using so-called log-transform. \n",
        "Consider computation of $P=s_1 s_2 \\cdots s_n$, where $0\\leq s_i\\leq 1$ for each $i$. Taking logarithm in base 2 from both sides gives $\\log _2 P= \\log _2 (s_1 s_2 \\cdots s_n)=\\log_2 s_1 + \\log_2 s_2 + \\cdots \\log s_n= \\sum_{i=1}^n \\log s_i$, with repeated application of the property that the logarithm of a multiplication of two numbers is the sum of logarithms of the two numbers taken separately. The results is abbreviated as log-probability.\n",
        "\n",
        "15. Write class ```MarkovLog``` that given the $k$-th order Markov chain developed above to the constructor, its method ```log_probability``` computes the log-probability of a given input DNA sequence. Run your program with $T=$ `ATGATATCATCGACGATGTAG` and $k=2$."
      ]
    },
    {
      "cell_type": "code",
      "execution_count": 19,
      "metadata": {
        "ExecuteTime": {
          "end_time": "2019-07-08T22:04:23.390453Z",
          "start_time": "2019-07-08T22:04:23.379760Z"
        },
        "id": "YN57mGQijWUf",
        "colab": {
          "base_uri": "https://localhost:8080/"
        },
        "outputId": "355542c1-72b5-471a-e7df-05e9f5fee624"
      },
      "outputs": [
        {
          "output_type": "stream",
          "name": "stdout",
          "text": [
            "Log probability of sequence ATGATATCATCGACGATGTAG is -31.717831515538315\n"
          ]
        }
      ],
      "source": [
        "import math\n",
        "\n",
        "class MarkovLog(object):\n",
        "\n",
        "    def __init__(self, k, zeroth, kth):\n",
        "        self.k = k\n",
        "        self.zeroth = zeroth\n",
        "        self.kth = kth\n",
        "\n",
        "    def log_probability(self, s):\n",
        "        k, kth = self.k, self.kth\n",
        "        prob = 0\n",
        "        for i in range(k):\n",
        "            #print(self.zeroth[s[i]])\n",
        "            prob += math.log(self.zeroth[s[i]], 2)\n",
        "        for i in range(len(s)-k):\n",
        "            w = s[i:i+k]\n",
        "            d = kth[w]\n",
        "            c = s[i+k]\n",
        "            #print(w, c)\n",
        "            prob += math.log(d[c], 2)\n",
        "        return prob\n",
        "    \n",
        "if __name__ == '__main__':\n",
        "    k = 2\n",
        "    kth = context_pseudo_probabilities(\"ATGATATCATCGACGATGTAG\", k)\n",
        "    zeroth = context_pseudo_probabilities(\"ATGATATCATCGACGATGTAG\", 0)[\"\"]\n",
        "    mc = MarkovLog(2, zeroth, kth)\n",
        "    s=\"ATGATATCATCGACGATGTAG\"\n",
        "    print(f\"Log probability of sequence {s} is {mc.log_probability(s)}\")"
      ]
    },
    {
      "cell_type": "markdown",
      "metadata": {
        "id": "TCZXYbIZjWUf"
      },
      "source": [
        "### Idea of solution\n",
        "\n",
        "fill in"
      ]
    },
    {
      "cell_type": "markdown",
      "metadata": {
        "id": "226lSiLLjWUg"
      },
      "source": [
        "### Discussion\n",
        "\n",
        "fill in"
      ]
    },
    {
      "cell_type": "markdown",
      "metadata": {
        "id": "aOD54JLmjWUg"
      },
      "source": [
        "Finally, if you try to use the code so far for very large inputs, you might observe that the concatenation of symbols following a context occupy considerable amount of space. This is unnecessary, as we only need the frequencies. \n",
        "\n",
        "16. Optimize the space requirement of your code from exercise 13 for the $k$-th order Markov chain by replacing the concatenations by direct computations of the frequencies. Implement this as the\n",
        "  ```better_context_probabilities``` function."
      ]
    },
    {
      "cell_type": "code",
      "execution_count": 20,
      "metadata": {
        "ExecuteTime": {
          "end_time": "2019-07-08T22:04:23.422302Z",
          "start_time": "2019-07-08T22:04:23.416330Z"
        },
        "id": "2FcFsvOAjWUg",
        "colab": {
          "base_uri": "https://localhost:8080/"
        },
        "outputId": "40baa7a0-65d7-4327-f17a-84d41878230e"
      },
      "outputs": [
        {
          "output_type": "stream",
          "name": "stdout",
          "text": [
            "16\n",
            "AA: {'A': 0.25, 'C': 0.25, 'G': 0.25, 'T': 0.25}\n",
            "AC: {'A': 0.2, 'C': 0.2, 'G': 0.4, 'T': 0.2}\n",
            "AG: {'A': 0.25, 'C': 0.25, 'G': 0.25, 'T': 0.25}\n",
            "AT: {'A': 0.2222222222222222, 'C': 0.3333333333333333, 'G': 0.3333333333333333, 'T': 0.1111111111111111}\n",
            "CA: {'A': 0.2, 'C': 0.2, 'G': 0.2, 'T': 0.4}\n",
            "CC: {'A': 0.25, 'C': 0.25, 'G': 0.25, 'T': 0.25}\n",
            "CG: {'A': 0.5, 'C': 0.16666666666666666, 'G': 0.16666666666666666, 'T': 0.16666666666666666}\n",
            "CT: {'A': 0.25, 'C': 0.25, 'G': 0.25, 'T': 0.25}\n",
            "GA: {'A': 0.14285714285714285, 'C': 0.2857142857142857, 'G': 0.14285714285714285, 'T': 0.42857142857142855}\n",
            "GC: {'A': 0.25, 'C': 0.25, 'G': 0.25, 'T': 0.25}\n",
            "GG: {'A': 0.25, 'C': 0.25, 'G': 0.25, 'T': 0.25}\n",
            "GT: {'A': 0.4, 'C': 0.2, 'G': 0.2, 'T': 0.2}\n",
            "TA: {'A': 0.16666666666666666, 'C': 0.16666666666666666, 'G': 0.3333333333333333, 'T': 0.3333333333333333}\n",
            "TC: {'A': 0.3333333333333333, 'C': 0.16666666666666666, 'G': 0.3333333333333333, 'T': 0.16666666666666666}\n",
            "TG: {'A': 0.3333333333333333, 'C': 0.16666666666666666, 'G': 0.16666666666666666, 'T': 0.3333333333333333}\n",
            "TT: {'A': 0.25, 'C': 0.25, 'G': 0.25, 'T': 0.25}\n",
            "{'AA': {'A': 0.25, 'C': 0.25, 'G': 0.25, 'T': 0.25}, 'AC': {'A': 0.2, 'C': 0.2, 'G': 0.4, 'T': 0.2}, 'AG': {'A': 0.25, 'C': 0.25, 'G': 0.25, 'T': 0.25}, 'AT': {'A': 0.2222222222222222, 'C': 0.3333333333333333, 'G': 0.3333333333333333, 'T': 0.1111111111111111}, 'CA': {'A': 0.2, 'C': 0.2, 'G': 0.2, 'T': 0.4}, 'CC': {'A': 0.25, 'C': 0.25, 'G': 0.25, 'T': 0.25}, 'CG': {'A': 0.5, 'C': 0.16666666666666666, 'G': 0.16666666666666666, 'T': 0.16666666666666666}, 'CT': {'A': 0.25, 'C': 0.25, 'G': 0.25, 'T': 0.25}, 'GA': {'A': 0.14285714285714285, 'C': 0.2857142857142857, 'G': 0.14285714285714285, 'T': 0.42857142857142855}, 'GC': {'A': 0.25, 'C': 0.25, 'G': 0.25, 'T': 0.25}, 'GG': {'A': 0.25, 'C': 0.25, 'G': 0.25, 'T': 0.25}, 'GT': {'A': 0.4, 'C': 0.2, 'G': 0.2, 'T': 0.2}, 'TA': {'A': 0.16666666666666666, 'C': 0.16666666666666666, 'G': 0.3333333333333333, 'T': 0.3333333333333333}, 'TC': {'A': 0.3333333333333333, 'C': 0.16666666666666666, 'G': 0.3333333333333333, 'T': 0.16666666666666666}, 'TG': {'A': 0.3333333333333333, 'C': 0.16666666666666666, 'G': 0.16666666666666666, 'T': 0.3333333333333333}, 'TT': {'A': 0.25, 'C': 0.25, 'G': 0.25, 'T': 0.25}}\n"
          ]
        }
      ],
      "source": [
        "def better_context_probabilities(s, k):\n",
        "    kth = context_pseudo_probabilities(s, k)\n",
        "    for k, v in kth.items():\n",
        "        d = {'A':0.,'C':0.,'G':0.,'T':0.}\n",
        "        d.update(v)\n",
        "        kth[k] = d\n",
        "    return dict(kth)\n",
        "\n",
        "if __name__ == '__main__':\n",
        "    k = 2\n",
        "    s = \"ATGATATCATCGACGATGTAG\"\n",
        "    d = better_context_probabilities(s, k)\n",
        "    print(len(d))\n",
        "    for k, v in d.items():\n",
        "        assert len(v) == 4\n",
        "    print(\"\\n\".join(f\"{k}: {v}\" for k, v in d.items()))\n",
        "    print(d)\n",
        "    d['CT']['C']"
      ]
    },
    {
      "cell_type": "markdown",
      "metadata": {
        "id": "0MV65Y1mjWUg"
      },
      "source": [
        "### Idea of solution\n",
        "\n",
        "fill in"
      ]
    },
    {
      "cell_type": "markdown",
      "metadata": {
        "id": "5f3tFos0jWUh"
      },
      "source": [
        "### Discussion\n",
        "\n",
        "fill in"
      ]
    },
    {
      "cell_type": "markdown",
      "metadata": {
        "id": "0JNr7yvQjWUh"
      },
      "source": [
        "While the earlier approach of explicit concatenation of symbols following a context suffered from inefficient use of space, it does have a benefit of giving another much simpler strategy to sample from the distribution: \n",
        "observe that an element of the concatenation taken uniformly randomly is sampled exactly with the correct probability. \n",
        "\n",
        "17. Revisit the solution 12 and modify it to directly sample from the concatenation of symbols following a context. The function ```np.random.choice``` may be convenient here. Implement the modified version as the new `SimpleMarkovChain` class."
      ]
    },
    {
      "cell_type": "code",
      "execution_count": 21,
      "metadata": {
        "ExecuteTime": {
          "end_time": "2019-07-08T22:04:23.462556Z",
          "start_time": "2019-07-08T22:04:23.453101Z"
        },
        "id": "6fZ7nw3fjWUh",
        "tags": [],
        "colab": {
          "base_uri": "https://localhost:8080/"
        },
        "outputId": "f73e5e7b-03e8-4c65-bb0a-bf61484f1c15"
      },
      "outputs": [
        {
          "output_type": "stream",
          "name": "stdout",
          "text": [
            "n=0 k=0\n",
            "\n",
            "n=0 k=1\n",
            "\n",
            "n=0 k=2\n",
            "\n",
            "n=0 k=3\n",
            "\n",
            "n=1 k=0\n",
            "G\n",
            "n=1 k=1\n",
            "G\n",
            "n=1 k=2\n",
            "G\n",
            "n=1 k=3\n",
            "G\n",
            "n=2 k=0\n",
            "GG\n",
            "n=2 k=1\n",
            "GG\n",
            "n=2 k=2\n",
            "GG\n",
            "n=2 k=3\n",
            "GG\n",
            "n=3 k=0\n",
            "GGG\n",
            "n=3 k=1\n",
            "GGC\n",
            "n=3 k=2\n",
            "GGG\n",
            "n=3 k=3\n",
            "GGG\n",
            "n=4 k=0\n",
            "GGGG\n",
            "n=4 k=1\n",
            "GGCG\n",
            "n=4 k=2\n",
            "GGGG\n",
            "n=4 k=3\n",
            "GGGG\n",
            "n=5 k=0\n",
            "GGGGC\n",
            "n=5 k=1\n",
            "GGCGA\n",
            "n=5 k=2\n",
            "GGGGC\n",
            "n=5 k=3\n",
            "GGGGC\n",
            "n=6 k=0\n",
            "GGGGCG\n",
            "n=6 k=1\n",
            "GGCGAT\n",
            "n=6 k=2\n",
            "GGGGCG\n",
            "n=6 k=3\n",
            "GGGGCG\n",
            "n=7 k=0\n",
            "GGGGCGC\n",
            "n=7 k=1\n",
            "GGCGATC\n",
            "n=7 k=2\n",
            "GGGGCGA\n",
            "n=7 k=3\n",
            "GGGGCGC\n",
            "n=8 k=0\n",
            "GGGGCGCT\n",
            "n=8 k=1\n",
            "GGCGATCT\n",
            "n=8 k=2\n",
            "GGGGCGAT\n",
            "n=8 k=3\n",
            "GGGGCGCT\n",
            "n=9 k=0\n",
            "GGGGCGCTT\n",
            "n=9 k=1\n",
            "GGCGATCTT\n",
            "n=9 k=2\n",
            "GGGGCGATT\n",
            "n=9 k=3\n",
            "GGGGCGCTT\n",
            "n=10 k=0\n",
            "GGGGCGCTTC\n",
            "n=10 k=1\n",
            "GGCGATCTTC\n",
            "n=10 k=2\n",
            "GGGGCGATTC\n",
            "n=10 k=3\n",
            "GGGGCGCTTC\n",
            "n=11 k=0\n",
            "GGGGCGCTTCT\n",
            "n=11 k=1\n",
            "GGCGATCTTCG\n",
            "n=11 k=2\n",
            "GGGGCGATTCG\n",
            "n=11 k=3\n",
            "GGGGCGCTTCT\n",
            "n=12 k=0\n",
            "GGGGCGCTTCTG\n",
            "n=12 k=1\n",
            "GGCGATCTTCGC\n",
            "n=12 k=2\n",
            "GGGGCGATTCGC\n",
            "n=12 k=3\n",
            "GGGGCGCTTCTG\n",
            "n=13 k=0\n",
            "GGGGCGCTTCTGG\n",
            "n=13 k=1\n",
            "GGCGATCTTCGCG\n",
            "n=13 k=2\n",
            "GGGGCGATTCGCG\n",
            "n=13 k=3\n",
            "GGGGCGCTTCTGG\n",
            "n=14 k=0\n",
            "GGGGCGCTTCTGGT\n",
            "n=14 k=1\n",
            "GGCGATCTTCGCGT\n",
            "n=14 k=2\n",
            "GGGGCGATTCGCGT\n",
            "n=14 k=3\n",
            "GGGGCGCTTCTGGT\n",
            "n=15 k=0\n",
            "GGGGCGCTTCTGGTA\n",
            "n=15 k=1\n",
            "GGCGATCTTCGCGTA\n",
            "n=15 k=2\n",
            "GGGGCGATTCGCGTA\n",
            "n=15 k=3\n",
            "GGGGCGCTTCTGGTA\n",
            "n=16 k=0\n",
            "GGGGCGCTTCTGGTAA\n",
            "n=16 k=1\n",
            "GGCGATCTTCGCGTAA\n",
            "n=16 k=2\n",
            "GGGGCGATTCGCGTAA\n",
            "n=16 k=3\n",
            "GGGGCGCTTCTGGTAA\n",
            "n=17 k=0\n",
            "GGGGCGCTTCTGGTAAA\n",
            "n=17 k=1\n",
            "GGCGATCTTCGCGTAAA\n",
            "n=17 k=2\n",
            "GGGGCGATTCGCGTAAA\n",
            "n=17 k=3\n",
            "GGGGCGCTTCTGGTAAA\n",
            "n=18 k=0\n",
            "GGGGCGCTTCTGGTAAAT\n",
            "n=18 k=1\n",
            "GGCGATCTTCGCGTAAAT\n",
            "n=18 k=2\n",
            "GGGGCGATTCGCGTAAAT\n",
            "n=18 k=3\n",
            "GGGGCGCTTCTGGTAAAT\n",
            "n=19 k=0\n",
            "GGGGCGCTTCTGGTAAATT\n",
            "n=19 k=1\n",
            "GGCGATCTTCGCGTAAATG\n",
            "n=19 k=2\n",
            "GGGGCGATTCGCGTAAATG\n",
            "n=19 k=3\n",
            "GGGGCGCTTCTGGTAAATT\n",
            "n=20 k=0\n",
            "GGGGCGCTTCTGGTAAATTT\n",
            "n=20 k=1\n",
            "GGCGATCTTCGCGTAAATGT\n",
            "n=20 k=2\n",
            "GGGGCGATTCGCGTAAATGT\n",
            "n=20 k=3\n",
            "GGGGCGCTTCTGGTAAATTT\n",
            "n=21 k=0\n",
            "GGGGCGCTTCTGGTAAATTTT\n",
            "n=21 k=1\n",
            "GGCGATCTTCGCGTAAATGTT\n",
            "n=21 k=2\n",
            "GGGGCGATTCGCGTAAATGTT\n",
            "n=21 k=3\n",
            "GGGGCGCTTCTGGTAAATTTT\n",
            "n=22 k=0\n",
            "GGGGCGCTTCTGGTAAATTTTT\n",
            "n=22 k=1\n",
            "GGCGATCTTCGCGTAAATGTTG\n",
            "n=22 k=2\n",
            "GGGGCGATTCGCGTAAATGTTT\n",
            "n=22 k=3\n",
            "GGGGCGCTTCTGGTAAATTTTT\n",
            "n=23 k=0\n",
            "GGGGCGCTTCTGGTAAATTTTTC\n",
            "n=23 k=1\n",
            "GGCGATCTTCGCGTAAATGTTGA\n",
            "n=23 k=2\n",
            "GGGGCGATTCGCGTAAATGTTTC\n",
            "n=23 k=3\n",
            "GGGGCGCTTCTGGTAAATTTTTC\n",
            "n=24 k=0\n",
            "GGGGCGCTTCTGGTAAATTTTTCT\n",
            "n=24 k=1\n",
            "GGCGATCTTCGCGTAAATGTTGAT\n",
            "n=24 k=2\n",
            "GGGGCGATTCGCGTAAATGTTTCG\n",
            "n=24 k=3\n",
            "GGGGCGCTTCTGGTAAATTTTTCT\n",
            "n=25 k=0\n",
            "GGGGCGCTTCTGGTAAATTTTTCTA\n",
            "n=25 k=1\n",
            "GGCGATCTTCGCGTAAATGTTGATA\n",
            "n=25 k=2\n",
            "GGGGCGATTCGCGTAAATGTTTCGA\n",
            "n=25 k=3\n",
            "GGGGCGCTTCTGGTAAATTTTTCTA\n",
            "n=26 k=0\n",
            "GGGGCGCTTCTGGTAAATTTTTCTAG\n",
            "n=26 k=1\n",
            "GGCGATCTTCGCGTAAATGTTGATAT\n",
            "n=26 k=2\n",
            "GGGGCGATTCGCGTAAATGTTTCGAT\n",
            "n=26 k=3\n",
            "GGGGCGCTTCTGGTAAATTTTTCTAG\n",
            "n=27 k=0\n",
            "GGGGCGCTTCTGGTAAATTTTTCTAGA\n",
            "n=27 k=1\n",
            "GGCGATCTTCGCGTAAATGTTGATATA\n",
            "n=27 k=2\n",
            "GGGGCGATTCGCGTAAATGTTTCGATA\n",
            "n=27 k=3\n",
            "GGGGCGCTTCTGGTAAATTTTTCTAGA\n",
            "n=28 k=0\n",
            "GGGGCGCTTCTGGTAAATTTTTCTAGAT\n",
            "n=28 k=1\n",
            "GGCGATCTTCGCGTAAATGTTGATATAT\n",
            "n=28 k=2\n",
            "GGGGCGATTCGCGTAAATGTTTCGATAT\n",
            "n=28 k=3\n",
            "GGGGCGCTTCTGGTAAATTTTTCTAGAT\n",
            "n=29 k=0\n",
            "GGGGCGCTTCTGGTAAATTTTTCTAGATG\n",
            "n=29 k=1\n",
            "GGCGATCTTCGCGTAAATGTTGATATATC\n",
            "n=29 k=2\n",
            "GGGGCGATTCGCGTAAATGTTTCGATATC\n",
            "n=29 k=3\n",
            "GGGGCGCTTCTGGTAAATTTTTCTAGATG\n",
            "n=30 k=0\n",
            "GGGGCGCTTCTGGTAAATTTTTCTAGATGC\n",
            "n=30 k=1\n",
            "GGCGATCTTCGCGTAAATGTTGATATATCC\n",
            "n=30 k=2\n",
            "GGGGCGATTCGCGTAAATGTTTCGATATCC\n",
            "n=30 k=3\n",
            "GGGGCGCTTCTGGTAAATTTTTCTAGATGC\n",
            "n=31 k=0\n",
            "GGGGCGCTTCTGGTAAATTTTTCTAGATGCA\n",
            "n=31 k=1\n",
            "GGCGATCTTCGCGTAAATGTTGATATATCCA\n",
            "n=31 k=2\n",
            "GGGGCGATTCGCGTAAATGTTTCGATATCCC\n",
            "n=31 k=3\n",
            "GGGGCGCTTCTGGTAAATTTTTCTAGATGCC\n",
            "n=32 k=0\n",
            "GGGGCGCTTCTGGTAAATTTTTCTAGATGCAT\n",
            "n=32 k=1\n",
            "GGCGATCTTCGCGTAAATGTTGATATATCCAT\n",
            "n=32 k=2\n",
            "GGGGCGATTCGCGTAAATGTTTCGATATCCCT\n",
            "n=32 k=3\n",
            "GGGGCGCTTCTGGTAAATTTTTCTAGATGCCT\n",
            "n=33 k=0\n",
            "GGGGCGCTTCTGGTAAATTTTTCTAGATGCATC\n",
            "n=33 k=1\n",
            "GGCGATCTTCGCGTAAATGTTGATATATCCATC\n",
            "n=33 k=2\n",
            "GGGGCGATTCGCGTAAATGTTTCGATATCCCTC\n",
            "n=33 k=3\n",
            "GGGGCGCTTCTGGTAAATTTTTCTAGATGCCTC\n",
            "n=34 k=0\n",
            "GGGGCGCTTCTGGTAAATTTTTCTAGATGCATCG\n",
            "n=34 k=1\n",
            "GGCGATCTTCGCGTAAATGTTGATATATCCATCG\n",
            "n=34 k=2\n",
            "GGGGCGATTCGCGTAAATGTTTCGATATCCCTCG\n",
            "n=34 k=3\n",
            "GGGGCGCTTCTGGTAAATTTTTCTAGATGCCTCG\n",
            "n=35 k=0\n",
            "GGGGCGCTTCTGGTAAATTTTTCTAGATGCATCGA\n",
            "n=35 k=1\n",
            "GGCGATCTTCGCGTAAATGTTGATATATCCATCGA\n",
            "n=35 k=2\n",
            "GGGGCGATTCGCGTAAATGTTTCGATATCCCTCGA\n",
            "n=35 k=3\n",
            "GGGGCGCTTCTGGTAAATTTTTCTAGATGCCTCGA\n",
            "n=36 k=0\n",
            "GGGGCGCTTCTGGTAAATTTTTCTAGATGCATCGAG\n",
            "n=36 k=1\n",
            "GGCGATCTTCGCGTAAATGTTGATATATCCATCGAT\n",
            "n=36 k=2\n",
            "GGGGCGATTCGCGTAAATGTTTCGATATCCCTCGAT\n",
            "n=36 k=3\n",
            "GGGGCGCTTCTGGTAAATTTTTCTAGATGCCTCGAG\n",
            "n=37 k=0\n",
            "GGGGCGCTTCTGGTAAATTTTTCTAGATGCATCGAGG\n",
            "n=37 k=1\n",
            "GGCGATCTTCGCGTAAATGTTGATATATCCATCGATG\n",
            "n=37 k=2\n",
            "GGGGCGATTCGCGTAAATGTTTCGATATCCCTCGATG\n",
            "n=37 k=3\n",
            "GGGGCGCTTCTGGTAAATTTTTCTAGATGCCTCGAGG\n",
            "n=38 k=0\n",
            "GGGGCGCTTCTGGTAAATTTTTCTAGATGCATCGAGGG\n",
            "n=38 k=1\n",
            "GGCGATCTTCGCGTAAATGTTGATATATCCATCGATGC\n",
            "n=38 k=2\n",
            "GGGGCGATTCGCGTAAATGTTTCGATATCCCTCGATGG\n",
            "n=38 k=3\n",
            "GGGGCGCTTCTGGTAAATTTTTCTAGATGCCTCGAGGG\n",
            "n=39 k=0\n",
            "GGGGCGCTTCTGGTAAATTTTTCTAGATGCATCGAGGGT\n",
            "n=39 k=1\n",
            "GGCGATCTTCGCGTAAATGTTGATATATCCATCGATGCT\n",
            "n=39 k=2\n",
            "GGGGCGATTCGCGTAAATGTTTCGATATCCCTCGATGGT\n",
            "n=39 k=3\n",
            "GGGGCGCTTCTGGTAAATTTTTCTAGATGCCTCGAGGGT\n"
          ]
        }
      ],
      "source": [
        "class SimpleMarkovChain(object):\n",
        "    def __init__(self, s, k):\n",
        "        self.k = k\n",
        "        self.s = s\n",
        "        self.zeroth = list(better_context_probabilities(s, 0).values())[0]\n",
        "        self.zeroth = list(self.zeroth.values())\n",
        "        if k == 0:\n",
        "            self.kth = self.zeroth\n",
        "        else:\n",
        "            self.kth = better_context_probabilities(s, k)\n",
        "            for k, v in self.kth.items():\n",
        "                self.kth[k] = list(v.values())\n",
        "        #print(f'self.zeroth:{self.zeroth}')\n",
        "        #print(f'self.kth:{self.kth}')\n",
        "\n",
        "    def generate(self, n, seed=None):\n",
        "        if seed != None:\n",
        "            np.random.seed(seed)\n",
        "        k, s = self.k, self.s\n",
        "        mer = np.random.choice(list(\"ACGT\"), k, p=self.zeroth)\n",
        "        if k == 0:\n",
        "            return \"\".join(np.random.choice(list(\"ACGT\"), n, p=self.zeroth))\n",
        "        if n < k:\n",
        "            return \"\".join(mer[:n])\n",
        "        mer = \"\".join(mer)\n",
        "        key = mer\n",
        "        while len(mer) < n:\n",
        "            c = np.random.choice(list(\"ACGT\"), 1, p=self.kth[key])\n",
        "            mer += \"\".join(c)\n",
        "            key = \"\".join(mer[-k:])\n",
        "        return mer        \n",
        "        \n",
        "if __name__ == '__main__':\n",
        "    k = 2\n",
        "    s = \"ATGATATCATCGACGATGTAG\"\n",
        "    n = 10\n",
        "    seed = 0\n",
        "    for n in range(40):\n",
        "        for k in range(4):\n",
        "            print(f'n={n} k={k}')\n",
        "            mc = SimpleMarkovChain(s, k)\n",
        "            s2 = mc.generate(n, seed)\n",
        "            assert len(s2)==n, print(f\"Expected a string of length {n} from the 'generate' method!\")\n",
        "            print(s2)\n"
      ]
    },
    {
      "cell_type": "markdown",
      "metadata": {
        "id": "wvb9b9I7jWUi"
      },
      "source": [
        "### Idea of solution\n",
        "\n",
        "fill in"
      ]
    },
    {
      "cell_type": "markdown",
      "metadata": {
        "id": "B3dmVO3IjWUi"
      },
      "source": [
        "### Discussion\n",
        "\n",
        "fill in"
      ]
    },
    {
      "cell_type": "markdown",
      "metadata": {
        "id": "rEmbYm5vjWUi"
      },
      "source": [
        "## $k$-mer index\n",
        "\n",
        "Our $k$-th order Markov chain can now be modified to a handy index structure called $k$-mer index. This index structure associates to each $k$-mer its list of occurrence positions in DNA sequence $T$.  Given a query $k$-mer $W$, one can thus easily list all positions $i$ with  $T[i..k-1]=W$.\n",
        "\n",
        "18. Implement function ```kmer_index``` inspired by your earlier code for the $k$-th order Markov chain. Test your program with `ATGATATCATCGACGATGTAG` and $k=2$."
      ]
    },
    {
      "cell_type": "code",
      "execution_count": 22,
      "metadata": {
        "ExecuteTime": {
          "end_time": "2019-07-08T22:04:23.504405Z",
          "start_time": "2019-07-08T22:04:23.494537Z"
        },
        "id": "nzFhKjj1jWUi",
        "colab": {
          "base_uri": "https://localhost:8080/"
        },
        "outputId": "2bbc675b-c316-4034-994c-b45aecb93819"
      },
      "outputs": [
        {
          "output_type": "stream",
          "name": "stdout",
          "text": [
            "Using string:\n",
            "ATGATATCATCGACGATGTAG\n",
            "012345678901234567890\n",
            "\n",
            "2-mer index is:\n",
            "{'AC': [12], 'AT': [0, 3, 5, 8, 15], 'AG': [19], 'CA': [7], 'CG': [10, 13], 'TA': [4, 18], 'TC': [6, 9], 'TG': [1, 16], 'GA': [2, 11, 14], 'GT': [17]}\n"
          ]
        }
      ],
      "source": [
        "import re\n",
        "\n",
        "def kmer_index(s, k):\n",
        "    d = dict()\n",
        "    for kmer in [\"\".join(list(x)) for x in itertools.product('ACTG', repeat=k)]:\n",
        "        v = [m.start() for m in re.finditer(kmer, s)]\n",
        "        if v != []:\n",
        "            d[kmer] = v\n",
        "    return d\n",
        "\n",
        "if __name__ == '__main__':\n",
        "    k=2\n",
        "    s = \"ATGATATCATCGACGATGTAG\"\n",
        "    print(\"Using string:\")\n",
        "    print(s)\n",
        "    print(\"\".join([str(i%10) for i in range(len(s))]))\n",
        "    print(f\"\\n{k}-mer index is:\")\n",
        "    d=kmer_index(s, k)\n",
        "    print(dict(d))"
      ]
    },
    {
      "cell_type": "markdown",
      "metadata": {
        "id": "td_e9AyfjWUj"
      },
      "source": [
        "### Idea of solution\n",
        "\n",
        "fill in"
      ]
    },
    {
      "cell_type": "markdown",
      "metadata": {
        "id": "_26BgjSyjWUj"
      },
      "source": [
        "### Discussion\n",
        "\n",
        "fill in"
      ]
    },
    {
      "cell_type": "markdown",
      "metadata": {
        "id": "77gf-rAyjWUj"
      },
      "source": [
        "## Comparison of probability distributions\n",
        "\n",
        "Now that we know how to learn probability distributions from data, we might want to compare two such distributions, for example, to test if our programs work as intended. \n",
        "\n",
        "Let $P=\\{p_1,p_2,\\ldots, p_n\\}$ and $Q=\\{q_1,q_2,\\ldots, q_n\\}$ be two probability distributions for the same set of $n$ events. This means $\\sum_{i=1}^n p_i=\\sum_{i=1}^n q_i=1$, $0\\leq p_j \\leq 1$, and $0\\leq q_j \\leq 1$ for each event $j$. \n",
        "\n",
        "*Kullback-Leibler divergence* is a measure $d()$ for the *relative entropy* of $P$ with respect to $Q$ defined as \n",
        "$d(P||Q)=\\sum_{i=1}^n p_i \\log\\frac{p_i}{q_i}$.\n",
        "\n",
        "\n",
        "This measure is always non-negative, and 0 only when $P=Q$. It can be interpreted as the gain of knowing $Q$ to encode $P$. Note that this measure is not symmetric.\n",
        "\n",
        "19. Write function ```kullback_leibler``` to compute $d(P||Q)$. Test your solution by generating a random RNA sequence\n",
        "  encoding the input protein sequence according to the input codon adaptation probabilities.\n",
        "  Then you should learn the codon adaptation probabilities from the RNA sequence you generated.\n",
        "  Then try the same with uniformly random RNA sequences (which don't have to encode any\n",
        "  specific protein sequence). Compute the relative entropies between the\n",
        "  three distribution (original, predicted, uniform) and you should observe a clear difference.\n",
        "  Because $d(P||Q)$ is not symmetric, you can either print both $d(P||Q)$ and $d(Q||P)$,\n",
        "  or their average.\n",
        "  \n",
        "  This problem may be fairly tricky. Only the `kullback_leibler` function is automatically tested. The codon probabilities is probably a useful helper function. The main guarded section can be completed by filling out the `pass` sections using tooling from previous parts and fixing the *placeholder* lines."
      ]
    },
    {
      "cell_type": "code",
      "source": [
        "def codon_probabilities(rna):\n",
        "    \"\"\"\n",
        "    Given an RNA sequence, simply calculates the proability of\n",
        "    all 3-mers empirically based on the sequence\n",
        "    \"\"\"\n",
        "    d = dict()\n",
        "    for kmer in [\"\".join(list(x)) for x in itertools.product('ACGU', repeat=3)]:\n",
        "        v = [m.start() for m in re.finditer(kmer, rna)]\n",
        "        if v != []:\n",
        "            d[kmer] = len(v)\n",
        "        else:\n",
        "            #continue\n",
        "            d[kmer] = 0\n",
        "    total = sum(d.values())\n",
        "    for k, v in d.items():\n",
        "        d[k] = v / total\n",
        "    #print(sum(d.values()), d)\n",
        "    return d\n",
        "\n",
        "d = codon_probabilities(\"UACGACGUACCGGUUAACCGUU\")\n",
        "print(sum(d.values()), len(d), d)"
      ],
      "metadata": {
        "colab": {
          "base_uri": "https://localhost:8080/"
        },
        "id": "TC5QjD_Q_NsX",
        "outputId": "6d7c4188-6419-4795-c711-08a7f719098c"
      },
      "execution_count": 23,
      "outputs": [
        {
          "output_type": "stream",
          "name": "stdout",
          "text": [
            "1.0 64 {'AAA': 0.0, 'AAC': 0.05, 'AAG': 0.0, 'AAU': 0.0, 'ACA': 0.0, 'ACC': 0.1, 'ACG': 0.1, 'ACU': 0.0, 'AGA': 0.0, 'AGC': 0.0, 'AGG': 0.0, 'AGU': 0.0, 'AUA': 0.0, 'AUC': 0.0, 'AUG': 0.0, 'AUU': 0.0, 'CAA': 0.0, 'CAC': 0.0, 'CAG': 0.0, 'CAU': 0.0, 'CCA': 0.0, 'CCC': 0.0, 'CCG': 0.1, 'CCU': 0.0, 'CGA': 0.05, 'CGC': 0.0, 'CGG': 0.05, 'CGU': 0.1, 'CUA': 0.0, 'CUC': 0.0, 'CUG': 0.0, 'CUU': 0.0, 'GAA': 0.0, 'GAC': 0.05, 'GAG': 0.0, 'GAU': 0.0, 'GCA': 0.0, 'GCC': 0.0, 'GCG': 0.0, 'GCU': 0.0, 'GGA': 0.0, 'GGC': 0.0, 'GGG': 0.0, 'GGU': 0.05, 'GUA': 0.05, 'GUC': 0.0, 'GUG': 0.0, 'GUU': 0.1, 'UAA': 0.05, 'UAC': 0.1, 'UAG': 0.0, 'UAU': 0.0, 'UCA': 0.0, 'UCC': 0.0, 'UCG': 0.0, 'UCU': 0.0, 'UGA': 0.0, 'UGC': 0.0, 'UGG': 0.0, 'UGU': 0.0, 'UUA': 0.05, 'UUC': 0.0, 'UUG': 0.0, 'UUU': 0.0}\n"
          ]
        }
      ]
    },
    {
      "cell_type": "code",
      "execution_count": 24,
      "metadata": {
        "ExecuteTime": {
          "end_time": "2019-07-08T22:04:23.557340Z",
          "start_time": "2019-07-08T22:04:23.539188Z"
        },
        "id": "hRjY0UbDjWUj",
        "colab": {
          "base_uri": "https://localhost:8080/"
        },
        "outputId": "a337e422-8ed9-4fd3-84a6-54830feff2ea"
      },
      "outputs": [
        {
          "output_type": "stream",
          "name": "stdout",
          "text": [
            "d(original || uniform) = 97.48755725807439\n",
            "{0.015700359158542843, 0.012211390456644433, 0.01590559261159569, 0.014161108260646486, 0.017650076962544895, 0.014366341713699333, 0.016110826064648538, 0.016316059517701386, 0.01806054386865059, 0.014571575166752181, 0.011082606464853772, 0.014776808619805027, 0.016521292970754234, 0.014982042072857875, 0.01323755772190867, 0.01672652642380708, 0.015187275525910723, 0.01693175987685993, 0.01539250897896357, 0.013648024628014366, 0.01734222678296562, 0.017136993329912777, 0.015597742432016419, 0.01210877373011801, 0.015802975885069265, 0.01754746023601847, 0.017752693689071317, 0.016008209338122113, 0.01426372498717291, 0.01621344279117496, 0.017957927142124165, 0.015495125705489995, 0.014468958440225757, 0.012724474089276553, 0.018163160595177013, 0.016418676244227808, 0.014674191893278605, 0.0172396100564392, 0.013134940995382247, 0.016829143150333504, 0.015084658799384299, 0.015289892252437147, 0.01375064135454079}\n",
            "2.000178031727149\n"
          ]
        }
      ],
      "source": [
        "def kullback_leibler(p, q):\n",
        "    \"\"\"\n",
        "    Computes Kullback-Leibler divergence between two distributions.\n",
        "    Both p and q must be dictionaries from events to probabilities.\n",
        "    The divergence is defined only when q[event] == 0 implies p[event] == 0.\n",
        "    \"\"\"\n",
        "    #print(p)\n",
        "    #print(q)\n",
        "\n",
        "    if p == q:\n",
        "        return 0.\n",
        "    kpi = 0.\n",
        "    unique_keys = lambda d: set([y for x in d.keys() for y in set(list(x))])\n",
        "    for i in [\"\".join(list(x)) for x in itertools.product(unique_keys(p), repeat=len(list(set(p.keys()))[0]))]:\n",
        "        #print(p[i], q[i])\n",
        "        kpi += p[i] * math.log((p[i]+math.exp(-9)) / (q[i]), 2)\n",
        "    return kpi\n",
        "\n",
        "if __name__ == '__main__':\n",
        "\n",
        "    if True:\n",
        "        aas = list(\"*ACDEFGHIKLMNPQRSTVWY\") # List of amino acids\n",
        "        n = 10000\n",
        "        \n",
        "        # generate a random protein and some associated rna\n",
        "        protein = \"\".join(choice(aas, n))\n",
        "        rna = \"\".join(ProteinToRandomRNA().convert(protein))\n",
        "        \n",
        "        # Maybe check that converting back to protein results in the same sequence\n",
        "        #print(\"\".join(rna_to_prot(rna)))\n",
        "        #print(protein)\n",
        "        #assert \"\".join(rna_to_prot(rna)) == protein, \"failed to convert back to protein from a generated rna\"\n",
        "        \n",
        "        # Calculate codon probabilities of the rna sequence\n",
        "        cp_predicted = codon_probabilities(rna) # placeholder call\n",
        "        \n",
        "        # Calculate codon probabilities based on the codon usage table\n",
        "        #cp_orig = {\"\".join(codon): 0 for codon in product(\"ACGU\", repeat=3)} # placeholder dict\n",
        "        cp_orig = get_probabability_dict()\n",
        "        \n",
        "        # Create a completely random RNA sequence and get the codon probabilities\n",
        "        cp_uniform = codon_probabilities(\"\".join(choice(list(\"ACGU\"), n))) # placeholder call\n",
        "        \n",
        "        #print(\"d(original || predicted) =\", kullback_leibler(cp_orig, cp_predicted))\n",
        "        #print(\"d(predicted || original) =\", kullback_leibler(cp_predicted, cp_orig))\n",
        "        #print()\n",
        "        print(\"d(original || uniform) =\", kullback_leibler(cp_orig, cp_uniform))\n",
        "        print(set(cp_uniform.values()))\n",
        "        #print(\"d(uniform || original) =\", kullback_leibler(cp_uniform, cp_orig))\n",
        "        #print()\n",
        "        #print(\"d(predicted || uniform) =\", kullback_leibler(cp_predicted, cp_uniform))\n",
        "        #print(\"d(uniform || predicted) =\", kullback_leibler(cp_uniform, cp_predicted))\n",
        "\n",
        "    if True:\n",
        "        p = dict(zip(\"ACGT\", [0.25]*4))\n",
        "        assert kullback_leibler(p, p) == 0.0\n",
        "\n",
        "    if True:\n",
        "        p = dict(zip(\"ACGT\", [1.0, 0.0, 0.0, 0.0]))\n",
        "        q = dict(zip(\"ACGT\", [0.25]*4))\n",
        "        x = kullback_leibler(p, q)\n",
        "        print(x)\n",
        "        #ssert x == 2.0\n",
        "\n"
      ]
    },
    {
      "cell_type": "markdown",
      "metadata": {
        "id": "94m1INZjjWUj"
      },
      "source": [
        "### Idea of solution\n",
        "\n",
        "fill in"
      ]
    },
    {
      "cell_type": "markdown",
      "metadata": {
        "id": "vYGiTglljWUk"
      },
      "source": [
        "### Discussion\n",
        "\n",
        "fill in"
      ]
    },
    {
      "cell_type": "markdown",
      "metadata": {
        "id": "nIGsf8ofjWUk"
      },
      "source": [
        "## Stationary and equilibrium distributions (extra)\n",
        "\n",
        "Let us consider a Markov chain of order one on the set of nucleotides.\n",
        "Its transition probabilities can be expressed as a $4 \\times 4$ matrix\n",
        "$P=(p_{ij})$, where the element $p_{ij}$ gives the probability of the $j$th nucleotide\n",
        "on the condition the previous nucleotide was the $i$th. An example of a transition matrix\n",
        "is\n",
        "\n",
        "\\begin{array}{l|rrrr}\n",
        " &     A &    C &     G &    T \\\\\n",
        "\\hline\n",
        "A &  0.30 &  0.0 &  0.70 &  0.0 \\\\\n",
        "C &  0.00 &  0.4 &  0.00 &  0.6 \\\\\n",
        "G &  0.35 &  0.0 &  0.65 &  0.0 \\\\\n",
        "T &  0.00 &  0.2 &  0.00 &  0.8 \\\\\n",
        "\\end{array}.\n",
        "\n",
        "A distribution $\\pi=(\\pi_1,\\pi_2,\\pi_3,\\pi_4)$ is called *stationary*, if\n",
        "$\\pi = \\pi P$ (the product here is matrix product).\n",
        "\n",
        "20. Write function ```get_stationary_distributions``` that gets a transition matrix as parameter,\n",
        "  and returns the list of stationary distributions. You can do this with NumPy by\n",
        "  first taking transposition of both sides of the above equation to get equation\n",
        "  $\\pi^T = P^T \\pi^T$. Using numpy.linalg.eig take all eigenvectors related to\n",
        "  eigenvalue 1.0. By normalizing these vectors to sum up to one get the stationary distributions\n",
        "  of the original transition matrix. In the ```main``` function print the stationary distributions\n",
        "  of the above transition matrix."
      ]
    },
    {
      "cell_type": "code",
      "execution_count": 60,
      "metadata": {
        "ExecuteTime": {
          "end_time": "2019-07-08T22:04:23.591644Z",
          "start_time": "2019-07-08T22:04:23.580588Z"
        },
        "id": "ZwNMJIyhjWUk",
        "colab": {
          "base_uri": "https://localhost:8080/"
        },
        "outputId": "f576d562-3d65-42b6-e010-801b7adc6010"
      },
      "outputs": [
        {
          "output_type": "stream",
          "name": "stdout",
          "text": [
            "[0.33333333 0.         0.66666667 0.        ]\n",
            "[-0.    0.25 -0.    0.75]\n",
            "[ 7.96131459e+15 -0.00000000e+00 -7.96131459e+15 -0.00000000e+00]\n",
            "[ 0.00000000e+00  7.96131459e+15  0.00000000e+00 -7.96131459e+15]\n"
          ]
        }
      ],
      "source": [
        "def get_stationary_distributions(transition):\n",
        "    \"\"\"\n",
        "    The function get a transition matrix of a degree one Markov chain as parameter.\n",
        "    It returns a list of stationary distributions, in vector form, for that chain.\n",
        "    \"\"\"\n",
        "    w, v = np.linalg.eig(transition.T)\n",
        "    #print(w, v)   \n",
        "    def toprob(row):\n",
        "        total = sum(row)\n",
        "        return row / total\n",
        "    x = [toprob(row) for row in [vec / val for val, vec in zip(w, v.T)]]\n",
        "    return [x[1],x[3],x[0],x[2]]\n",
        "    \n",
        "if __name__ == \"__main__\":\n",
        "    transition=np.array([[0.3, 0, 0.7, 0],\n",
        "                         [0, 0.4, 0, 0.6],\n",
        "                         [0.35, 0, 0.65, 0],\n",
        "                         [0, 0.2, 0, 0.8]])\n",
        "    if False:\n",
        "        print(\"\\n\".join(\n",
        "            \", \".join(\n",
        "                f\"{pv:+.3f}\"\n",
        "                for pv in p) \n",
        "            for p in get_stationary_distributions(transition)))\n",
        "    print(get_stationary_distributions(transition)[0])\n",
        "    print(get_stationary_distributions(transition)[1])\n",
        "    print(get_stationary_distributions(transition)[2])\n",
        "    print(get_stationary_distributions(transition)[3])\n",
        "#assert_allclose(distributions[0], [0.33333333, 0., 0.66666667,  0], atol=1e-04)\n",
        "#assert_allclose(distributions[1], [ 0., 0.25, 0., 0.75], atol=1e-04)"
      ]
    },
    {
      "cell_type": "markdown",
      "metadata": {
        "id": "nn9W8V4mjWUk"
      },
      "source": [
        "### Idea of solution\n"
      ]
    },
    {
      "cell_type": "markdown",
      "metadata": {
        "id": "7hGSUmVwjWUk"
      },
      "source": [
        "### Discussion\n"
      ]
    },
    {
      "cell_type": "markdown",
      "metadata": {
        "id": "_xzPTq_yjWUl"
      },
      "source": [
        "21. Implement the `kl_divergence` function below so that the main guarded code runs properly. Using your modified Markov chain generator generate a nucleotide sequence $s$ of length $10\\;000$. Choose prefixes of $s$ of lengths $1, 10, 100, 1000$, and $10\\;000$. For each of these prefixes find out their nucleotide distribution (of order 0) using your earlier tool. Use 1 as the pseudo count. Then, for each prefix, compute the KL divergence between the initial distribution and the normalized nucleotide distribution."
      ]
    },
    {
      "cell_type": "code",
      "execution_count": 61,
      "metadata": {
        "ExecuteTime": {
          "end_time": "2019-07-08T22:04:23.635060Z",
          "start_time": "2019-07-08T22:04:23.618890Z"
        },
        "id": "HLEtRh4KjWUl",
        "colab": {
          "base_uri": "https://localhost:8080/"
        },
        "outputId": "61cc3a11-b344-48cf-b05a-f6afd1e8947e"
      },
      "outputs": [
        {
          "output_type": "stream",
          "name": "stdout",
          "text": [
            "Transition probabilities are:\n",
            "[[0.3  0.   0.7  0.  ]\n",
            " [0.   0.4  0.   0.6 ]\n",
            " [0.35 0.   0.65 0.  ]\n",
            " [0.   0.2  0.   0.8 ]]\n",
            "Stationary distributions:\n",
            "[[ 3.33333333e-01  0.00000000e+00  6.66666667e-01  0.00000000e+00]\n",
            " [-0.00000000e+00  2.50000000e-01 -0.00000000e+00  7.50000000e-01]\n",
            " [ 7.96131459e+15 -0.00000000e+00 -7.96131459e+15 -0.00000000e+00]\n",
            " [ 0.00000000e+00  7.96131459e+15  0.00000000e+00 -7.96131459e+15]]\n",
            "Using [-0.00, 0.25, -0.00, 0.75] as initial distribution\n",
            "\n",
            "KL divergence of stationary distribution prefix of length     1 is 0.91467483\n",
            "KL divergence of stationary distribution prefix of length    10 is 0.59093059\n",
            "KL divergence of stationary distribution prefix of length   100 is 0.12660189\n",
            "KL divergence of stationary distribution prefix of length  1000 is 0.55871492\n",
            "KL divergence of stationary distribution prefix of length 10000 is 0.26954798\n"
          ]
        }
      ],
      "source": [
        "def kl_divergences(initial, transition):\n",
        "    \"\"\"\n",
        "    Calculates the the Kullback-Leibler divergences between empirical distributions\n",
        "    generated using a markov model seeded with an initial distributin and a transition \n",
        "    matrix, and the initial distribution.\n",
        "    Sequences of length [1, 10, 100, 1000, 10000] are generated.\n",
        "    \"\"\"\n",
        "    return zip([1, 10, 100, 1000, 10000], np.random.rand(5))\n",
        "\n",
        "if __name__ == \"__main__\":\n",
        "    transition=np.array([[0.3, 0, 0.7, 0],\n",
        "                         [0, 0.4, 0, 0.6],\n",
        "                         [0.35, 0, 0.65, 0],\n",
        "                         [0, 0.2, 0, 0.8]])\n",
        "    print(\"Transition probabilities are:\")\n",
        "    print(transition)\n",
        "    stationary_distributions = get_stationary_distributions(transition)\n",
        "    print(\"Stationary distributions:\")\n",
        "    print(np.stack(stationary_distributions))\n",
        "    initial = stationary_distributions[1]\n",
        "    print(\"Using [{}] as initial distribution\\n\".format(\", \".join(f\"{v:.2f}\" for v in initial)))\n",
        "    results = kl_divergences(initial, transition)\n",
        "    for prefix_length, divergence in results: # iterate on prefix lengths in order (1, 10, 100...)\n",
        "        print(\"KL divergence of stationary distribution prefix \" \\\n",
        "              \"of length {:5d} is {:.8f}\".format(prefix_length, divergence))"
      ]
    },
    {
      "cell_type": "markdown",
      "metadata": {
        "id": "B21bvfrWjWUl"
      },
      "source": [
        "### Idea of solution\n",
        "\n",
        "fill in"
      ]
    },
    {
      "cell_type": "markdown",
      "metadata": {
        "id": "6L4fyglWjWUl"
      },
      "source": [
        "### Discussion\n",
        "fill in"
      ]
    },
    {
      "cell_type": "markdown",
      "metadata": {
        "id": "3TuMcMT7jWUl"
      },
      "source": [
        "22. Implement the following in the ```main``` function.\n",
        "Find the stationary distribution for the following transition matrix:  \n",
        "\n",
        "\\begin{array}{ l | r r r r}\n",
        " & A &     C &     G &     T \\\\\n",
        "\\hline\n",
        "A &  0.30 &  0.10 &  0.50 &  0.10 \\\\\n",
        "C &  0.20 &  0.30 &  0.15 &  0.35 \\\\\n",
        "G &  0.25 &  0.15 &  0.20 &  0.40 \\\\\n",
        "T &  0.35 &  0.20 &  0.40 &  0.05 \\\\\n",
        "\\end{array}\n",
        "\n",
        "Since there is only one stationary distribution, it is called the *equilibrium distribution*.\n",
        "Choose randomly two nucleotide distributions. You can take these from your sleeve or\n",
        "sample them from the Dirichlet distribution. Then for each of these distributions\n",
        "as the initial distribution of the Markov chain, repeat the above experiment.\n",
        "\n",
        "The `main` function should return tuples, where the first element is the (random) initial distribution and the second element contains the results as a list of tuples where the first element is the kl divergence and the second element the empirical nucleotide distribution, for the different prefix lengths.\n",
        "\n",
        "The state distribution should converge to the equilibrium distribution no matter how we\n",
        "start the Markov chain! That is the last line of the tables should have KL-divergence very close to $0$ and an empirical distribution very close to the equilibrium distribution.\n"
      ]
    },
    {
      "cell_type": "code",
      "execution_count": null,
      "metadata": {
        "ExecuteTime": {
          "end_time": "2019-07-08T22:04:23.681300Z",
          "start_time": "2019-07-08T22:04:23.657345Z"
        },
        "id": "2VZdb0r2jWUl"
      },
      "outputs": [],
      "source": [
        "def main(transition, equilibrium_distribution):\n",
        "    vals = list(zip(np.random.rand(10), np.random.rand(10, 4) - 0.5))\n",
        "    return zip(np.random.rand(2, 4) - 0.5, \n",
        "               [vals[:5], vals[5:]])\n",
        "\n",
        "\n",
        "if __name__ == \"__main__\":\n",
        "    transition = np.array([[0.3, 0.1, 0.5, 0.1],\n",
        "                           [0.2, 0.3, 0.15, 0.35],\n",
        "                           [0.25, 0.15, 0.2, 0.4],\n",
        "                           [0.35, 0.2, 0.4, 0.05]])\n",
        "    print(\"Transition probabilities are:\", transition, sep=\"\\n\")\n",
        "    stationary_distributions = get_stationary_distributions(transition)\n",
        "    # Uncomment the below line to check that there actually is only one stationary distribution\n",
        "    # assert len(stationary_distributions) == 1\n",
        "    equilibrium_distribution = stationary_distributions[0]\n",
        "    print(\"Equilibrium distribution:\")\n",
        "    print(equilibrium_distribution)\n",
        "    for initial_distribution, results in main(transition, equilibrium_distribution):\n",
        "        print(\"\\nUsing {} as initial distribution:\".format(initial_distribution))\n",
        "        print(\"kl-divergence   empirical distribution\")\n",
        "        print(\"\\n\".join(\"{:.11f}   {}\".format(di, kl) for di, kl in results))"
      ]
    },
    {
      "cell_type": "markdown",
      "metadata": {
        "id": "shd2OQbOjWUm"
      },
      "source": [
        "### Idea of solution\n",
        "\n",
        "fill in"
      ]
    },
    {
      "cell_type": "markdown",
      "metadata": {
        "id": "xOjq5GrUjWUm"
      },
      "source": [
        "### Discussion\n",
        "fill in"
      ]
    }
  ],
  "metadata": {
    "colab": {
      "collapsed_sections": [],
      "name": "project_notebook_sequence_analysis.ipynb",
      "provenance": [],
      "toc_visible": true
    },
    "kernelspec": {
      "display_name": "Python 3 (ipykernel)",
      "language": "python",
      "name": "python3"
    },
    "language_info": {
      "codemirror_mode": {
        "name": "ipython",
        "version": 3
      },
      "file_extension": ".py",
      "mimetype": "text/x-python",
      "name": "python",
      "nbconvert_exporter": "python",
      "pygments_lexer": "ipython3",
      "version": "3.9.5"
    },
    "varInspector": {
      "cols": {
        "lenName": 16,
        "lenType": 16,
        "lenVar": 40
      },
      "kernels_config": {
        "python": {
          "delete_cmd_postfix": "",
          "delete_cmd_prefix": "del ",
          "library": "var_list.py",
          "varRefreshCmd": "print(var_dic_list())"
        },
        "r": {
          "delete_cmd_postfix": ") ",
          "delete_cmd_prefix": "rm(",
          "library": "var_list.r",
          "varRefreshCmd": "cat(var_dic_list()) "
        }
      },
      "position": {
        "height": "598.85px",
        "left": "1223px",
        "right": "20px",
        "top": "121px",
        "width": "353px"
      },
      "types_to_exclude": [
        "module",
        "function",
        "builtin_function_or_method",
        "instance",
        "_Feature"
      ],
      "window_display": false
    }
  },
  "nbformat": 4,
  "nbformat_minor": 0
}